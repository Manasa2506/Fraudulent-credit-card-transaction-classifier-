{
  "nbformat": 4,
  "nbformat_minor": 0,
  "metadata": {
    "colab": {
      "provenance": []
    },
    "kernelspec": {
      "name": "python3",
      "display_name": "Python 3"
    },
    "language_info": {
      "name": "python"
    }
  },
  "cells": [
    {
      "cell_type": "markdown",
      "source": [
        "##IMPORT THE LIBRARIES"
      ],
      "metadata": {
        "id": "nLkTR5f8XOeK"
      }
    },
    {
      "cell_type": "code",
      "execution_count": null,
      "metadata": {
        "id": "RcgdP12CTjfq"
      },
      "outputs": [],
      "source": [
        "import pandas as pd \n",
        "import matplotlib.pyplot as plt \n",
        "from termcolor import colored as cl\n",
        "from sklearn.preprocessing import StandardScaler\n",
        "import seaborn as sns \n",
        "import plotly.express as px \n",
        "from sklearn.model_selection import train_test_split \n",
        "from sklearn import metrics \n",
        "from sklearn.metrics import confusion_matrix"
      ]
    },
    {
      "cell_type": "code",
      "source": [
        "df=pd.read_csv(\"/content/creditcard.csv\")"
      ],
      "metadata": {
        "id": "Of4CNvSTTwWQ"
      },
      "execution_count": null,
      "outputs": []
    },
    {
      "cell_type": "markdown",
      "source": [
        "##DATA PREPROCESSING"
      ],
      "metadata": {
        "id": "og6QLkmHXieT"
      }
    },
    {
      "cell_type": "code",
      "source": [
        "df.describe()"
      ],
      "metadata": {
        "colab": {
          "base_uri": "https://localhost:8080/",
          "height": 393
        },
        "id": "bFXLardWU7eI",
        "outputId": "46daa06e-3ec4-4581-90c0-b0ca16020ad5"
      },
      "execution_count": null,
      "outputs": [
        {
          "output_type": "execute_result",
          "data": {
            "text/plain": [
              "                Time            V1            V2            V3            V4  \\\n",
              "count  284807.000000  2.848070e+05  2.848070e+05  2.848070e+05  2.848070e+05   \n",
              "mean    94813.859575  1.168375e-15  3.416908e-16 -1.379537e-15  2.074095e-15   \n",
              "std     47488.145955  1.958696e+00  1.651309e+00  1.516255e+00  1.415869e+00   \n",
              "min         0.000000 -5.640751e+01 -7.271573e+01 -4.832559e+01 -5.683171e+00   \n",
              "25%     54201.500000 -9.203734e-01 -5.985499e-01 -8.903648e-01 -8.486401e-01   \n",
              "50%     84692.000000  1.810880e-02  6.548556e-02  1.798463e-01 -1.984653e-02   \n",
              "75%    139320.500000  1.315642e+00  8.037239e-01  1.027196e+00  7.433413e-01   \n",
              "max    172792.000000  2.454930e+00  2.205773e+01  9.382558e+00  1.687534e+01   \n",
              "\n",
              "                 V5            V6            V7            V8            V9  \\\n",
              "count  2.848070e+05  2.848070e+05  2.848070e+05  2.848070e+05  2.848070e+05   \n",
              "mean   9.604066e-16  1.487313e-15 -5.556467e-16  1.213481e-16 -2.406331e-15   \n",
              "std    1.380247e+00  1.332271e+00  1.237094e+00  1.194353e+00  1.098632e+00   \n",
              "min   -1.137433e+02 -2.616051e+01 -4.355724e+01 -7.321672e+01 -1.343407e+01   \n",
              "25%   -6.915971e-01 -7.682956e-01 -5.540759e-01 -2.086297e-01 -6.430976e-01   \n",
              "50%   -5.433583e-02 -2.741871e-01  4.010308e-02  2.235804e-02 -5.142873e-02   \n",
              "75%    6.119264e-01  3.985649e-01  5.704361e-01  3.273459e-01  5.971390e-01   \n",
              "max    3.480167e+01  7.330163e+01  1.205895e+02  2.000721e+01  1.559499e+01   \n",
              "\n",
              "       ...           V21           V22           V23           V24  \\\n",
              "count  ...  2.848070e+05  2.848070e+05  2.848070e+05  2.848070e+05   \n",
              "mean   ...  1.654067e-16 -3.568593e-16  2.578648e-16  4.473266e-15   \n",
              "std    ...  7.345240e-01  7.257016e-01  6.244603e-01  6.056471e-01   \n",
              "min    ... -3.483038e+01 -1.093314e+01 -4.480774e+01 -2.836627e+00   \n",
              "25%    ... -2.283949e-01 -5.423504e-01 -1.618463e-01 -3.545861e-01   \n",
              "50%    ... -2.945017e-02  6.781943e-03 -1.119293e-02  4.097606e-02   \n",
              "75%    ...  1.863772e-01  5.285536e-01  1.476421e-01  4.395266e-01   \n",
              "max    ...  2.720284e+01  1.050309e+01  2.252841e+01  4.584549e+00   \n",
              "\n",
              "                V25           V26           V27           V28         Amount  \\\n",
              "count  2.848070e+05  2.848070e+05  2.848070e+05  2.848070e+05  284807.000000   \n",
              "mean   5.340915e-16  1.683437e-15 -3.660091e-16 -1.227390e-16      88.349619   \n",
              "std    5.212781e-01  4.822270e-01  4.036325e-01  3.300833e-01     250.120109   \n",
              "min   -1.029540e+01 -2.604551e+00 -2.256568e+01 -1.543008e+01       0.000000   \n",
              "25%   -3.171451e-01 -3.269839e-01 -7.083953e-02 -5.295979e-02       5.600000   \n",
              "50%    1.659350e-02 -5.213911e-02  1.342146e-03  1.124383e-02      22.000000   \n",
              "75%    3.507156e-01  2.409522e-01  9.104512e-02  7.827995e-02      77.165000   \n",
              "max    7.519589e+00  3.517346e+00  3.161220e+01  3.384781e+01   25691.160000   \n",
              "\n",
              "               Class  \n",
              "count  284807.000000  \n",
              "mean        0.001727  \n",
              "std         0.041527  \n",
              "min         0.000000  \n",
              "25%         0.000000  \n",
              "50%         0.000000  \n",
              "75%         0.000000  \n",
              "max         1.000000  \n",
              "\n",
              "[8 rows x 31 columns]"
            ],
            "text/html": [
              "\n",
              "  <div id=\"df-9d535a77-6f94-4c19-8dbf-cfa4dff6b3b8\">\n",
              "    <div class=\"colab-df-container\">\n",
              "      <div>\n",
              "<style scoped>\n",
              "    .dataframe tbody tr th:only-of-type {\n",
              "        vertical-align: middle;\n",
              "    }\n",
              "\n",
              "    .dataframe tbody tr th {\n",
              "        vertical-align: top;\n",
              "    }\n",
              "\n",
              "    .dataframe thead th {\n",
              "        text-align: right;\n",
              "    }\n",
              "</style>\n",
              "<table border=\"1\" class=\"dataframe\">\n",
              "  <thead>\n",
              "    <tr style=\"text-align: right;\">\n",
              "      <th></th>\n",
              "      <th>Time</th>\n",
              "      <th>V1</th>\n",
              "      <th>V2</th>\n",
              "      <th>V3</th>\n",
              "      <th>V4</th>\n",
              "      <th>V5</th>\n",
              "      <th>V6</th>\n",
              "      <th>V7</th>\n",
              "      <th>V8</th>\n",
              "      <th>V9</th>\n",
              "      <th>...</th>\n",
              "      <th>V21</th>\n",
              "      <th>V22</th>\n",
              "      <th>V23</th>\n",
              "      <th>V24</th>\n",
              "      <th>V25</th>\n",
              "      <th>V26</th>\n",
              "      <th>V27</th>\n",
              "      <th>V28</th>\n",
              "      <th>Amount</th>\n",
              "      <th>Class</th>\n",
              "    </tr>\n",
              "  </thead>\n",
              "  <tbody>\n",
              "    <tr>\n",
              "      <th>count</th>\n",
              "      <td>284807.000000</td>\n",
              "      <td>2.848070e+05</td>\n",
              "      <td>2.848070e+05</td>\n",
              "      <td>2.848070e+05</td>\n",
              "      <td>2.848070e+05</td>\n",
              "      <td>2.848070e+05</td>\n",
              "      <td>2.848070e+05</td>\n",
              "      <td>2.848070e+05</td>\n",
              "      <td>2.848070e+05</td>\n",
              "      <td>2.848070e+05</td>\n",
              "      <td>...</td>\n",
              "      <td>2.848070e+05</td>\n",
              "      <td>2.848070e+05</td>\n",
              "      <td>2.848070e+05</td>\n",
              "      <td>2.848070e+05</td>\n",
              "      <td>2.848070e+05</td>\n",
              "      <td>2.848070e+05</td>\n",
              "      <td>2.848070e+05</td>\n",
              "      <td>2.848070e+05</td>\n",
              "      <td>284807.000000</td>\n",
              "      <td>284807.000000</td>\n",
              "    </tr>\n",
              "    <tr>\n",
              "      <th>mean</th>\n",
              "      <td>94813.859575</td>\n",
              "      <td>1.168375e-15</td>\n",
              "      <td>3.416908e-16</td>\n",
              "      <td>-1.379537e-15</td>\n",
              "      <td>2.074095e-15</td>\n",
              "      <td>9.604066e-16</td>\n",
              "      <td>1.487313e-15</td>\n",
              "      <td>-5.556467e-16</td>\n",
              "      <td>1.213481e-16</td>\n",
              "      <td>-2.406331e-15</td>\n",
              "      <td>...</td>\n",
              "      <td>1.654067e-16</td>\n",
              "      <td>-3.568593e-16</td>\n",
              "      <td>2.578648e-16</td>\n",
              "      <td>4.473266e-15</td>\n",
              "      <td>5.340915e-16</td>\n",
              "      <td>1.683437e-15</td>\n",
              "      <td>-3.660091e-16</td>\n",
              "      <td>-1.227390e-16</td>\n",
              "      <td>88.349619</td>\n",
              "      <td>0.001727</td>\n",
              "    </tr>\n",
              "    <tr>\n",
              "      <th>std</th>\n",
              "      <td>47488.145955</td>\n",
              "      <td>1.958696e+00</td>\n",
              "      <td>1.651309e+00</td>\n",
              "      <td>1.516255e+00</td>\n",
              "      <td>1.415869e+00</td>\n",
              "      <td>1.380247e+00</td>\n",
              "      <td>1.332271e+00</td>\n",
              "      <td>1.237094e+00</td>\n",
              "      <td>1.194353e+00</td>\n",
              "      <td>1.098632e+00</td>\n",
              "      <td>...</td>\n",
              "      <td>7.345240e-01</td>\n",
              "      <td>7.257016e-01</td>\n",
              "      <td>6.244603e-01</td>\n",
              "      <td>6.056471e-01</td>\n",
              "      <td>5.212781e-01</td>\n",
              "      <td>4.822270e-01</td>\n",
              "      <td>4.036325e-01</td>\n",
              "      <td>3.300833e-01</td>\n",
              "      <td>250.120109</td>\n",
              "      <td>0.041527</td>\n",
              "    </tr>\n",
              "    <tr>\n",
              "      <th>min</th>\n",
              "      <td>0.000000</td>\n",
              "      <td>-5.640751e+01</td>\n",
              "      <td>-7.271573e+01</td>\n",
              "      <td>-4.832559e+01</td>\n",
              "      <td>-5.683171e+00</td>\n",
              "      <td>-1.137433e+02</td>\n",
              "      <td>-2.616051e+01</td>\n",
              "      <td>-4.355724e+01</td>\n",
              "      <td>-7.321672e+01</td>\n",
              "      <td>-1.343407e+01</td>\n",
              "      <td>...</td>\n",
              "      <td>-3.483038e+01</td>\n",
              "      <td>-1.093314e+01</td>\n",
              "      <td>-4.480774e+01</td>\n",
              "      <td>-2.836627e+00</td>\n",
              "      <td>-1.029540e+01</td>\n",
              "      <td>-2.604551e+00</td>\n",
              "      <td>-2.256568e+01</td>\n",
              "      <td>-1.543008e+01</td>\n",
              "      <td>0.000000</td>\n",
              "      <td>0.000000</td>\n",
              "    </tr>\n",
              "    <tr>\n",
              "      <th>25%</th>\n",
              "      <td>54201.500000</td>\n",
              "      <td>-9.203734e-01</td>\n",
              "      <td>-5.985499e-01</td>\n",
              "      <td>-8.903648e-01</td>\n",
              "      <td>-8.486401e-01</td>\n",
              "      <td>-6.915971e-01</td>\n",
              "      <td>-7.682956e-01</td>\n",
              "      <td>-5.540759e-01</td>\n",
              "      <td>-2.086297e-01</td>\n",
              "      <td>-6.430976e-01</td>\n",
              "      <td>...</td>\n",
              "      <td>-2.283949e-01</td>\n",
              "      <td>-5.423504e-01</td>\n",
              "      <td>-1.618463e-01</td>\n",
              "      <td>-3.545861e-01</td>\n",
              "      <td>-3.171451e-01</td>\n",
              "      <td>-3.269839e-01</td>\n",
              "      <td>-7.083953e-02</td>\n",
              "      <td>-5.295979e-02</td>\n",
              "      <td>5.600000</td>\n",
              "      <td>0.000000</td>\n",
              "    </tr>\n",
              "    <tr>\n",
              "      <th>50%</th>\n",
              "      <td>84692.000000</td>\n",
              "      <td>1.810880e-02</td>\n",
              "      <td>6.548556e-02</td>\n",
              "      <td>1.798463e-01</td>\n",
              "      <td>-1.984653e-02</td>\n",
              "      <td>-5.433583e-02</td>\n",
              "      <td>-2.741871e-01</td>\n",
              "      <td>4.010308e-02</td>\n",
              "      <td>2.235804e-02</td>\n",
              "      <td>-5.142873e-02</td>\n",
              "      <td>...</td>\n",
              "      <td>-2.945017e-02</td>\n",
              "      <td>6.781943e-03</td>\n",
              "      <td>-1.119293e-02</td>\n",
              "      <td>4.097606e-02</td>\n",
              "      <td>1.659350e-02</td>\n",
              "      <td>-5.213911e-02</td>\n",
              "      <td>1.342146e-03</td>\n",
              "      <td>1.124383e-02</td>\n",
              "      <td>22.000000</td>\n",
              "      <td>0.000000</td>\n",
              "    </tr>\n",
              "    <tr>\n",
              "      <th>75%</th>\n",
              "      <td>139320.500000</td>\n",
              "      <td>1.315642e+00</td>\n",
              "      <td>8.037239e-01</td>\n",
              "      <td>1.027196e+00</td>\n",
              "      <td>7.433413e-01</td>\n",
              "      <td>6.119264e-01</td>\n",
              "      <td>3.985649e-01</td>\n",
              "      <td>5.704361e-01</td>\n",
              "      <td>3.273459e-01</td>\n",
              "      <td>5.971390e-01</td>\n",
              "      <td>...</td>\n",
              "      <td>1.863772e-01</td>\n",
              "      <td>5.285536e-01</td>\n",
              "      <td>1.476421e-01</td>\n",
              "      <td>4.395266e-01</td>\n",
              "      <td>3.507156e-01</td>\n",
              "      <td>2.409522e-01</td>\n",
              "      <td>9.104512e-02</td>\n",
              "      <td>7.827995e-02</td>\n",
              "      <td>77.165000</td>\n",
              "      <td>0.000000</td>\n",
              "    </tr>\n",
              "    <tr>\n",
              "      <th>max</th>\n",
              "      <td>172792.000000</td>\n",
              "      <td>2.454930e+00</td>\n",
              "      <td>2.205773e+01</td>\n",
              "      <td>9.382558e+00</td>\n",
              "      <td>1.687534e+01</td>\n",
              "      <td>3.480167e+01</td>\n",
              "      <td>7.330163e+01</td>\n",
              "      <td>1.205895e+02</td>\n",
              "      <td>2.000721e+01</td>\n",
              "      <td>1.559499e+01</td>\n",
              "      <td>...</td>\n",
              "      <td>2.720284e+01</td>\n",
              "      <td>1.050309e+01</td>\n",
              "      <td>2.252841e+01</td>\n",
              "      <td>4.584549e+00</td>\n",
              "      <td>7.519589e+00</td>\n",
              "      <td>3.517346e+00</td>\n",
              "      <td>3.161220e+01</td>\n",
              "      <td>3.384781e+01</td>\n",
              "      <td>25691.160000</td>\n",
              "      <td>1.000000</td>\n",
              "    </tr>\n",
              "  </tbody>\n",
              "</table>\n",
              "<p>8 rows × 31 columns</p>\n",
              "</div>\n",
              "      <button class=\"colab-df-convert\" onclick=\"convertToInteractive('df-9d535a77-6f94-4c19-8dbf-cfa4dff6b3b8')\"\n",
              "              title=\"Convert this dataframe to an interactive table.\"\n",
              "              style=\"display:none;\">\n",
              "        \n",
              "  <svg xmlns=\"http://www.w3.org/2000/svg\" height=\"24px\"viewBox=\"0 0 24 24\"\n",
              "       width=\"24px\">\n",
              "    <path d=\"M0 0h24v24H0V0z\" fill=\"none\"/>\n",
              "    <path d=\"M18.56 5.44l.94 2.06.94-2.06 2.06-.94-2.06-.94-.94-2.06-.94 2.06-2.06.94zm-11 1L8.5 8.5l.94-2.06 2.06-.94-2.06-.94L8.5 2.5l-.94 2.06-2.06.94zm10 10l.94 2.06.94-2.06 2.06-.94-2.06-.94-.94-2.06-.94 2.06-2.06.94z\"/><path d=\"M17.41 7.96l-1.37-1.37c-.4-.4-.92-.59-1.43-.59-.52 0-1.04.2-1.43.59L10.3 9.45l-7.72 7.72c-.78.78-.78 2.05 0 2.83L4 21.41c.39.39.9.59 1.41.59.51 0 1.02-.2 1.41-.59l7.78-7.78 2.81-2.81c.8-.78.8-2.07 0-2.86zM5.41 20L4 18.59l7.72-7.72 1.47 1.35L5.41 20z\"/>\n",
              "  </svg>\n",
              "      </button>\n",
              "      \n",
              "  <style>\n",
              "    .colab-df-container {\n",
              "      display:flex;\n",
              "      flex-wrap:wrap;\n",
              "      gap: 12px;\n",
              "    }\n",
              "\n",
              "    .colab-df-convert {\n",
              "      background-color: #E8F0FE;\n",
              "      border: none;\n",
              "      border-radius: 50%;\n",
              "      cursor: pointer;\n",
              "      display: none;\n",
              "      fill: #1967D2;\n",
              "      height: 32px;\n",
              "      padding: 0 0 0 0;\n",
              "      width: 32px;\n",
              "    }\n",
              "\n",
              "    .colab-df-convert:hover {\n",
              "      background-color: #E2EBFA;\n",
              "      box-shadow: 0px 1px 2px rgba(60, 64, 67, 0.3), 0px 1px 3px 1px rgba(60, 64, 67, 0.15);\n",
              "      fill: #174EA6;\n",
              "    }\n",
              "\n",
              "    [theme=dark] .colab-df-convert {\n",
              "      background-color: #3B4455;\n",
              "      fill: #D2E3FC;\n",
              "    }\n",
              "\n",
              "    [theme=dark] .colab-df-convert:hover {\n",
              "      background-color: #434B5C;\n",
              "      box-shadow: 0px 1px 3px 1px rgba(0, 0, 0, 0.15);\n",
              "      filter: drop-shadow(0px 1px 2px rgba(0, 0, 0, 0.3));\n",
              "      fill: #FFFFFF;\n",
              "    }\n",
              "  </style>\n",
              "\n",
              "      <script>\n",
              "        const buttonEl =\n",
              "          document.querySelector('#df-9d535a77-6f94-4c19-8dbf-cfa4dff6b3b8 button.colab-df-convert');\n",
              "        buttonEl.style.display =\n",
              "          google.colab.kernel.accessAllowed ? 'block' : 'none';\n",
              "\n",
              "        async function convertToInteractive(key) {\n",
              "          const element = document.querySelector('#df-9d535a77-6f94-4c19-8dbf-cfa4dff6b3b8');\n",
              "          const dataTable =\n",
              "            await google.colab.kernel.invokeFunction('convertToInteractive',\n",
              "                                                     [key], {});\n",
              "          if (!dataTable) return;\n",
              "\n",
              "          const docLinkHtml = 'Like what you see? Visit the ' +\n",
              "            '<a target=\"_blank\" href=https://colab.research.google.com/notebooks/data_table.ipynb>data table notebook</a>'\n",
              "            + ' to learn more about interactive tables.';\n",
              "          element.innerHTML = '';\n",
              "          dataTable['output_type'] = 'display_data';\n",
              "          await google.colab.output.renderOutput(dataTable, element);\n",
              "          const docLink = document.createElement('div');\n",
              "          docLink.innerHTML = docLinkHtml;\n",
              "          element.appendChild(docLink);\n",
              "        }\n",
              "      </script>\n",
              "    </div>\n",
              "  </div>\n",
              "  "
            ]
          },
          "metadata": {},
          "execution_count": 32
        }
      ]
    },
    {
      "cell_type": "code",
      "source": [
        "df.head()"
      ],
      "metadata": {
        "colab": {
          "base_uri": "https://localhost:8080/",
          "height": 299
        },
        "id": "3loKD294U9Yk",
        "outputId": "f6fd9f83-8da1-4046-8729-a112573b68e5"
      },
      "execution_count": null,
      "outputs": [
        {
          "output_type": "execute_result",
          "data": {
            "text/plain": [
              "   Time        V1        V2        V3        V4        V5        V6        V7  \\\n",
              "0   0.0 -1.359807 -0.072781  2.536347  1.378155 -0.338321  0.462388  0.239599   \n",
              "1   0.0  1.191857  0.266151  0.166480  0.448154  0.060018 -0.082361 -0.078803   \n",
              "2   1.0 -1.358354 -1.340163  1.773209  0.379780 -0.503198  1.800499  0.791461   \n",
              "3   1.0 -0.966272 -0.185226  1.792993 -0.863291 -0.010309  1.247203  0.237609   \n",
              "4   2.0 -1.158233  0.877737  1.548718  0.403034 -0.407193  0.095921  0.592941   \n",
              "\n",
              "         V8        V9  ...       V21       V22       V23       V24       V25  \\\n",
              "0  0.098698  0.363787  ... -0.018307  0.277838 -0.110474  0.066928  0.128539   \n",
              "1  0.085102 -0.255425  ... -0.225775 -0.638672  0.101288 -0.339846  0.167170   \n",
              "2  0.247676 -1.514654  ...  0.247998  0.771679  0.909412 -0.689281 -0.327642   \n",
              "3  0.377436 -1.387024  ... -0.108300  0.005274 -0.190321 -1.175575  0.647376   \n",
              "4 -0.270533  0.817739  ... -0.009431  0.798278 -0.137458  0.141267 -0.206010   \n",
              "\n",
              "        V26       V27       V28  Amount  Class  \n",
              "0 -0.189115  0.133558 -0.021053  149.62      0  \n",
              "1  0.125895 -0.008983  0.014724    2.69      0  \n",
              "2 -0.139097 -0.055353 -0.059752  378.66      0  \n",
              "3 -0.221929  0.062723  0.061458  123.50      0  \n",
              "4  0.502292  0.219422  0.215153   69.99      0  \n",
              "\n",
              "[5 rows x 31 columns]"
            ],
            "text/html": [
              "\n",
              "  <div id=\"df-0d7bd2f1-bf35-4d9c-94b5-eae86559a8b8\">\n",
              "    <div class=\"colab-df-container\">\n",
              "      <div>\n",
              "<style scoped>\n",
              "    .dataframe tbody tr th:only-of-type {\n",
              "        vertical-align: middle;\n",
              "    }\n",
              "\n",
              "    .dataframe tbody tr th {\n",
              "        vertical-align: top;\n",
              "    }\n",
              "\n",
              "    .dataframe thead th {\n",
              "        text-align: right;\n",
              "    }\n",
              "</style>\n",
              "<table border=\"1\" class=\"dataframe\">\n",
              "  <thead>\n",
              "    <tr style=\"text-align: right;\">\n",
              "      <th></th>\n",
              "      <th>Time</th>\n",
              "      <th>V1</th>\n",
              "      <th>V2</th>\n",
              "      <th>V3</th>\n",
              "      <th>V4</th>\n",
              "      <th>V5</th>\n",
              "      <th>V6</th>\n",
              "      <th>V7</th>\n",
              "      <th>V8</th>\n",
              "      <th>V9</th>\n",
              "      <th>...</th>\n",
              "      <th>V21</th>\n",
              "      <th>V22</th>\n",
              "      <th>V23</th>\n",
              "      <th>V24</th>\n",
              "      <th>V25</th>\n",
              "      <th>V26</th>\n",
              "      <th>V27</th>\n",
              "      <th>V28</th>\n",
              "      <th>Amount</th>\n",
              "      <th>Class</th>\n",
              "    </tr>\n",
              "  </thead>\n",
              "  <tbody>\n",
              "    <tr>\n",
              "      <th>0</th>\n",
              "      <td>0.0</td>\n",
              "      <td>-1.359807</td>\n",
              "      <td>-0.072781</td>\n",
              "      <td>2.536347</td>\n",
              "      <td>1.378155</td>\n",
              "      <td>-0.338321</td>\n",
              "      <td>0.462388</td>\n",
              "      <td>0.239599</td>\n",
              "      <td>0.098698</td>\n",
              "      <td>0.363787</td>\n",
              "      <td>...</td>\n",
              "      <td>-0.018307</td>\n",
              "      <td>0.277838</td>\n",
              "      <td>-0.110474</td>\n",
              "      <td>0.066928</td>\n",
              "      <td>0.128539</td>\n",
              "      <td>-0.189115</td>\n",
              "      <td>0.133558</td>\n",
              "      <td>-0.021053</td>\n",
              "      <td>149.62</td>\n",
              "      <td>0</td>\n",
              "    </tr>\n",
              "    <tr>\n",
              "      <th>1</th>\n",
              "      <td>0.0</td>\n",
              "      <td>1.191857</td>\n",
              "      <td>0.266151</td>\n",
              "      <td>0.166480</td>\n",
              "      <td>0.448154</td>\n",
              "      <td>0.060018</td>\n",
              "      <td>-0.082361</td>\n",
              "      <td>-0.078803</td>\n",
              "      <td>0.085102</td>\n",
              "      <td>-0.255425</td>\n",
              "      <td>...</td>\n",
              "      <td>-0.225775</td>\n",
              "      <td>-0.638672</td>\n",
              "      <td>0.101288</td>\n",
              "      <td>-0.339846</td>\n",
              "      <td>0.167170</td>\n",
              "      <td>0.125895</td>\n",
              "      <td>-0.008983</td>\n",
              "      <td>0.014724</td>\n",
              "      <td>2.69</td>\n",
              "      <td>0</td>\n",
              "    </tr>\n",
              "    <tr>\n",
              "      <th>2</th>\n",
              "      <td>1.0</td>\n",
              "      <td>-1.358354</td>\n",
              "      <td>-1.340163</td>\n",
              "      <td>1.773209</td>\n",
              "      <td>0.379780</td>\n",
              "      <td>-0.503198</td>\n",
              "      <td>1.800499</td>\n",
              "      <td>0.791461</td>\n",
              "      <td>0.247676</td>\n",
              "      <td>-1.514654</td>\n",
              "      <td>...</td>\n",
              "      <td>0.247998</td>\n",
              "      <td>0.771679</td>\n",
              "      <td>0.909412</td>\n",
              "      <td>-0.689281</td>\n",
              "      <td>-0.327642</td>\n",
              "      <td>-0.139097</td>\n",
              "      <td>-0.055353</td>\n",
              "      <td>-0.059752</td>\n",
              "      <td>378.66</td>\n",
              "      <td>0</td>\n",
              "    </tr>\n",
              "    <tr>\n",
              "      <th>3</th>\n",
              "      <td>1.0</td>\n",
              "      <td>-0.966272</td>\n",
              "      <td>-0.185226</td>\n",
              "      <td>1.792993</td>\n",
              "      <td>-0.863291</td>\n",
              "      <td>-0.010309</td>\n",
              "      <td>1.247203</td>\n",
              "      <td>0.237609</td>\n",
              "      <td>0.377436</td>\n",
              "      <td>-1.387024</td>\n",
              "      <td>...</td>\n",
              "      <td>-0.108300</td>\n",
              "      <td>0.005274</td>\n",
              "      <td>-0.190321</td>\n",
              "      <td>-1.175575</td>\n",
              "      <td>0.647376</td>\n",
              "      <td>-0.221929</td>\n",
              "      <td>0.062723</td>\n",
              "      <td>0.061458</td>\n",
              "      <td>123.50</td>\n",
              "      <td>0</td>\n",
              "    </tr>\n",
              "    <tr>\n",
              "      <th>4</th>\n",
              "      <td>2.0</td>\n",
              "      <td>-1.158233</td>\n",
              "      <td>0.877737</td>\n",
              "      <td>1.548718</td>\n",
              "      <td>0.403034</td>\n",
              "      <td>-0.407193</td>\n",
              "      <td>0.095921</td>\n",
              "      <td>0.592941</td>\n",
              "      <td>-0.270533</td>\n",
              "      <td>0.817739</td>\n",
              "      <td>...</td>\n",
              "      <td>-0.009431</td>\n",
              "      <td>0.798278</td>\n",
              "      <td>-0.137458</td>\n",
              "      <td>0.141267</td>\n",
              "      <td>-0.206010</td>\n",
              "      <td>0.502292</td>\n",
              "      <td>0.219422</td>\n",
              "      <td>0.215153</td>\n",
              "      <td>69.99</td>\n",
              "      <td>0</td>\n",
              "    </tr>\n",
              "  </tbody>\n",
              "</table>\n",
              "<p>5 rows × 31 columns</p>\n",
              "</div>\n",
              "      <button class=\"colab-df-convert\" onclick=\"convertToInteractive('df-0d7bd2f1-bf35-4d9c-94b5-eae86559a8b8')\"\n",
              "              title=\"Convert this dataframe to an interactive table.\"\n",
              "              style=\"display:none;\">\n",
              "        \n",
              "  <svg xmlns=\"http://www.w3.org/2000/svg\" height=\"24px\"viewBox=\"0 0 24 24\"\n",
              "       width=\"24px\">\n",
              "    <path d=\"M0 0h24v24H0V0z\" fill=\"none\"/>\n",
              "    <path d=\"M18.56 5.44l.94 2.06.94-2.06 2.06-.94-2.06-.94-.94-2.06-.94 2.06-2.06.94zm-11 1L8.5 8.5l.94-2.06 2.06-.94-2.06-.94L8.5 2.5l-.94 2.06-2.06.94zm10 10l.94 2.06.94-2.06 2.06-.94-2.06-.94-.94-2.06-.94 2.06-2.06.94z\"/><path d=\"M17.41 7.96l-1.37-1.37c-.4-.4-.92-.59-1.43-.59-.52 0-1.04.2-1.43.59L10.3 9.45l-7.72 7.72c-.78.78-.78 2.05 0 2.83L4 21.41c.39.39.9.59 1.41.59.51 0 1.02-.2 1.41-.59l7.78-7.78 2.81-2.81c.8-.78.8-2.07 0-2.86zM5.41 20L4 18.59l7.72-7.72 1.47 1.35L5.41 20z\"/>\n",
              "  </svg>\n",
              "      </button>\n",
              "      \n",
              "  <style>\n",
              "    .colab-df-container {\n",
              "      display:flex;\n",
              "      flex-wrap:wrap;\n",
              "      gap: 12px;\n",
              "    }\n",
              "\n",
              "    .colab-df-convert {\n",
              "      background-color: #E8F0FE;\n",
              "      border: none;\n",
              "      border-radius: 50%;\n",
              "      cursor: pointer;\n",
              "      display: none;\n",
              "      fill: #1967D2;\n",
              "      height: 32px;\n",
              "      padding: 0 0 0 0;\n",
              "      width: 32px;\n",
              "    }\n",
              "\n",
              "    .colab-df-convert:hover {\n",
              "      background-color: #E2EBFA;\n",
              "      box-shadow: 0px 1px 2px rgba(60, 64, 67, 0.3), 0px 1px 3px 1px rgba(60, 64, 67, 0.15);\n",
              "      fill: #174EA6;\n",
              "    }\n",
              "\n",
              "    [theme=dark] .colab-df-convert {\n",
              "      background-color: #3B4455;\n",
              "      fill: #D2E3FC;\n",
              "    }\n",
              "\n",
              "    [theme=dark] .colab-df-convert:hover {\n",
              "      background-color: #434B5C;\n",
              "      box-shadow: 0px 1px 3px 1px rgba(0, 0, 0, 0.15);\n",
              "      filter: drop-shadow(0px 1px 2px rgba(0, 0, 0, 0.3));\n",
              "      fill: #FFFFFF;\n",
              "    }\n",
              "  </style>\n",
              "\n",
              "      <script>\n",
              "        const buttonEl =\n",
              "          document.querySelector('#df-0d7bd2f1-bf35-4d9c-94b5-eae86559a8b8 button.colab-df-convert');\n",
              "        buttonEl.style.display =\n",
              "          google.colab.kernel.accessAllowed ? 'block' : 'none';\n",
              "\n",
              "        async function convertToInteractive(key) {\n",
              "          const element = document.querySelector('#df-0d7bd2f1-bf35-4d9c-94b5-eae86559a8b8');\n",
              "          const dataTable =\n",
              "            await google.colab.kernel.invokeFunction('convertToInteractive',\n",
              "                                                     [key], {});\n",
              "          if (!dataTable) return;\n",
              "\n",
              "          const docLinkHtml = 'Like what you see? Visit the ' +\n",
              "            '<a target=\"_blank\" href=https://colab.research.google.com/notebooks/data_table.ipynb>data table notebook</a>'\n",
              "            + ' to learn more about interactive tables.';\n",
              "          element.innerHTML = '';\n",
              "          dataTable['output_type'] = 'display_data';\n",
              "          await google.colab.output.renderOutput(dataTable, element);\n",
              "          const docLink = document.createElement('div');\n",
              "          docLink.innerHTML = docLinkHtml;\n",
              "          element.appendChild(docLink);\n",
              "        }\n",
              "      </script>\n",
              "    </div>\n",
              "  </div>\n",
              "  "
            ]
          },
          "metadata": {},
          "execution_count": 33
        }
      ]
    },
    {
      "cell_type": "code",
      "source": [
        "df.isnull().sum()"
      ],
      "metadata": {
        "colab": {
          "base_uri": "https://localhost:8080/"
        },
        "id": "45AJHW3mU-lE",
        "outputId": "6139c7c6-c97f-4264-c6ff-b0d0a943484a"
      },
      "execution_count": null,
      "outputs": [
        {
          "output_type": "execute_result",
          "data": {
            "text/plain": [
              "Time      0\n",
              "V1        0\n",
              "V2        0\n",
              "V3        0\n",
              "V4        0\n",
              "V5        0\n",
              "V6        0\n",
              "V7        0\n",
              "V8        0\n",
              "V9        0\n",
              "V10       0\n",
              "V11       0\n",
              "V12       0\n",
              "V13       0\n",
              "V14       0\n",
              "V15       0\n",
              "V16       0\n",
              "V17       0\n",
              "V18       0\n",
              "V19       0\n",
              "V20       0\n",
              "V21       0\n",
              "V22       0\n",
              "V23       0\n",
              "V24       0\n",
              "V25       0\n",
              "V26       0\n",
              "V27       0\n",
              "V28       0\n",
              "Amount    0\n",
              "Class     0\n",
              "dtype: int64"
            ]
          },
          "metadata": {},
          "execution_count": 34
        }
      ]
    },
    {
      "cell_type": "code",
      "source": [
        "df.info()"
      ],
      "metadata": {
        "colab": {
          "base_uri": "https://localhost:8080/"
        },
        "id": "LBoNi6VcVJZh",
        "outputId": "ce75cc8c-48fa-4fb8-8d7c-3567b3c0d1cd"
      },
      "execution_count": null,
      "outputs": [
        {
          "output_type": "stream",
          "name": "stdout",
          "text": [
            "<class 'pandas.core.frame.DataFrame'>\n",
            "RangeIndex: 284807 entries, 0 to 284806\n",
            "Data columns (total 31 columns):\n",
            " #   Column  Non-Null Count   Dtype  \n",
            "---  ------  --------------   -----  \n",
            " 0   Time    284807 non-null  float64\n",
            " 1   V1      284807 non-null  float64\n",
            " 2   V2      284807 non-null  float64\n",
            " 3   V3      284807 non-null  float64\n",
            " 4   V4      284807 non-null  float64\n",
            " 5   V5      284807 non-null  float64\n",
            " 6   V6      284807 non-null  float64\n",
            " 7   V7      284807 non-null  float64\n",
            " 8   V8      284807 non-null  float64\n",
            " 9   V9      284807 non-null  float64\n",
            " 10  V10     284807 non-null  float64\n",
            " 11  V11     284807 non-null  float64\n",
            " 12  V12     284807 non-null  float64\n",
            " 13  V13     284807 non-null  float64\n",
            " 14  V14     284807 non-null  float64\n",
            " 15  V15     284807 non-null  float64\n",
            " 16  V16     284807 non-null  float64\n",
            " 17  V17     284807 non-null  float64\n",
            " 18  V18     284807 non-null  float64\n",
            " 19  V19     284807 non-null  float64\n",
            " 20  V20     284807 non-null  float64\n",
            " 21  V21     284807 non-null  float64\n",
            " 22  V22     284807 non-null  float64\n",
            " 23  V23     284807 non-null  float64\n",
            " 24  V24     284807 non-null  float64\n",
            " 25  V25     284807 non-null  float64\n",
            " 26  V26     284807 non-null  float64\n",
            " 27  V27     284807 non-null  float64\n",
            " 28  V28     284807 non-null  float64\n",
            " 29  Amount  284807 non-null  float64\n",
            " 30  Class   284807 non-null  int64  \n",
            "dtypes: float64(30), int64(1)\n",
            "memory usage: 67.4 MB\n"
          ]
        }
      ]
    },
    {
      "cell_type": "code",
      "source": [
        "Total_transactions = len(df)\n",
        "normal = len(df[df.Class == 0])\n",
        "fraudulent = len(df[df.Class == 1])\n",
        "fraud_percentage = round(fraudulent/normal*100, 2)\n",
        "print(cl('Total number of Trnsactions are {}'.format(Total_transactions), attrs = ['bold']))\n",
        "print(cl('Number of Normal Transactions are {}'.format(normal), attrs = ['bold']))\n",
        "print(cl('Number of fraudulent Transactions are {}'.format(fraudulent), attrs = ['bold']))\n",
        "print(cl('Percentage of fraud Transactions is {}'.format(fraud_percentage), attrs = ['bold']))"
      ],
      "metadata": {
        "colab": {
          "base_uri": "https://localhost:8080/"
        },
        "id": "qPpg2ZOlWJup",
        "outputId": "4dbaf29f-14ba-4d84-972f-cc42dd1327b2"
      },
      "execution_count": null,
      "outputs": [
        {
          "output_type": "stream",
          "name": "stdout",
          "text": [
            "Total number of Trnsactions are 284807\n",
            "Number of Normal Transactions are 284315\n",
            "Number of fraudulent Transactions are 492\n",
            "Percentage of fraud Transactions is 0.17\n"
          ]
        }
      ]
    },
    {
      "cell_type": "code",
      "source": [
        "sc = StandardScaler()\n",
        "amount = df['Amount'].values\n",
        "df['Amount'] = sc.fit_transform(amount.reshape(-1, 1))"
      ],
      "metadata": {
        "id": "qJmkPQwdWh8Y"
      },
      "execution_count": null,
      "outputs": []
    },
    {
      "cell_type": "code",
      "source": [
        "df.drop_duplicates(inplace=True)"
      ],
      "metadata": {
        "id": "Bk4MY-biWqMB"
      },
      "execution_count": null,
      "outputs": []
    },
    {
      "cell_type": "code",
      "source": [
        "df.shape"
      ],
      "metadata": {
        "colab": {
          "base_uri": "https://localhost:8080/"
        },
        "id": "Ie9qhREeW8qv",
        "outputId": "e9982fed-cb7d-4bc4-981c-bd1ba5e4de10"
      },
      "execution_count": null,
      "outputs": [
        {
          "output_type": "execute_result",
          "data": {
            "text/plain": [
              "(283726, 31)"
            ]
          },
          "metadata": {},
          "execution_count": 39
        }
      ]
    },
    {
      "cell_type": "markdown",
      "source": [
        "##DATA VISUALIZATION"
      ],
      "metadata": {
        "id": "t1iO-WxlXgD4"
      }
    },
    {
      "cell_type": "code",
      "source": [
        "df.hist(bins=30, figsize=(30, 30))"
      ],
      "metadata": {
        "colab": {
          "base_uri": "https://localhost:8080/",
          "height": 1000
        },
        "id": "RGCF4IJ7VA0I",
        "outputId": "e2278ca3-adae-4f05-ce2e-511958a24dc1"
      },
      "execution_count": null,
      "outputs": [
        {
          "output_type": "execute_result",
          "data": {
            "text/plain": [
              "array([[<matplotlib.axes._subplots.AxesSubplot object at 0x7f759c7647f0>,\n",
              "        <matplotlib.axes._subplots.AxesSubplot object at 0x7f759c736c40>,\n",
              "        <matplotlib.axes._subplots.AxesSubplot object at 0x7f759c6e6100>,\n",
              "        <matplotlib.axes._subplots.AxesSubplot object at 0x7f759c71c490>,\n",
              "        <matplotlib.axes._subplots.AxesSubplot object at 0x7f759c6c9880>,\n",
              "        <matplotlib.axes._subplots.AxesSubplot object at 0x7f759c677bb0>],\n",
              "       [<matplotlib.axes._subplots.AxesSubplot object at 0x7f759c677ca0>,\n",
              "        <matplotlib.axes._subplots.AxesSubplot object at 0x7f759c630130>,\n",
              "        <matplotlib.axes._subplots.AxesSubplot object at 0x7f759c60c8e0>,\n",
              "        <matplotlib.axes._subplots.AxesSubplot object at 0x7f759c5bacd0>,\n",
              "        <matplotlib.axes._subplots.AxesSubplot object at 0x7f759c573130>,\n",
              "        <matplotlib.axes._subplots.AxesSubplot object at 0x7f759c5a0520>],\n",
              "       [<matplotlib.axes._subplots.AxesSubplot object at 0x7f759c54d910>,\n",
              "        <matplotlib.axes._subplots.AxesSubplot object at 0x7f759c4fad00>,\n",
              "        <matplotlib.axes._subplots.AxesSubplot object at 0x7f759c4b4130>,\n",
              "        <matplotlib.axes._subplots.AxesSubplot object at 0x7f759c4e1550>,\n",
              "        <matplotlib.axes._subplots.AxesSubplot object at 0x7f759c48f970>,\n",
              "        <matplotlib.axes._subplots.AxesSubplot object at 0x7f759c43dd60>],\n",
              "       [<matplotlib.axes._subplots.AxesSubplot object at 0x7f759c3f6190>,\n",
              "        <matplotlib.axes._subplots.AxesSubplot object at 0x7f759c3a4580>,\n",
              "        <matplotlib.axes._subplots.AxesSubplot object at 0x7f759c3cf970>,\n",
              "        <matplotlib.axes._subplots.AxesSubplot object at 0x7f759c37edc0>,\n",
              "        <matplotlib.axes._subplots.AxesSubplot object at 0x7f759c3361f0>,\n",
              "        <matplotlib.axes._subplots.AxesSubplot object at 0x7f759c2e5640>],\n",
              "       [<matplotlib.axes._subplots.AxesSubplot object at 0x7f759c311a30>,\n",
              "        <matplotlib.axes._subplots.AxesSubplot object at 0x7f759c2bfe20>,\n",
              "        <matplotlib.axes._subplots.AxesSubplot object at 0x7f759c279250>,\n",
              "        <matplotlib.axes._subplots.AxesSubplot object at 0x7f759c226640>,\n",
              "        <matplotlib.axes._subplots.AxesSubplot object at 0x7f759c252a30>,\n",
              "        <matplotlib.axes._subplots.AxesSubplot object at 0x7f759c1fee80>],\n",
              "       [<matplotlib.axes._subplots.AxesSubplot object at 0x7f759c1b5fd0>,\n",
              "        <matplotlib.axes._subplots.AxesSubplot object at 0x7f759c16f7c0>,\n",
              "        <matplotlib.axes._subplots.AxesSubplot object at 0x7f759c19c2e0>,\n",
              "        <matplotlib.axes._subplots.AxesSubplot object at 0x7f759c14a4c0>,\n",
              "        <matplotlib.axes._subplots.AxesSubplot object at 0x7f759c0f3be0>,\n",
              "        <matplotlib.axes._subplots.AxesSubplot object at 0x7f759c0a7340>]],\n",
              "      dtype=object)"
            ]
          },
          "metadata": {},
          "execution_count": 12
        },
        {
          "output_type": "display_data",
          "data": {
            "text/plain": [
              "<Figure size 2160x2160 with 36 Axes>"
            ],
            "image/png": "[encoded data removed]"
          },
          "metadata": {
            "needs_background": "light"
          }
        }
      ]
    },
    {
      "cell_type": "code",
      "source": [
        "df.groupby('Amount')['Class'].mean().nlargest(20).plot.bar(color='blue')"
      ],
      "metadata": {
        "colab": {
          "base_uri": "https://localhost:8080/",
          "height": 405
        },
        "id": "FyLntFeLXM5w",
        "outputId": "d36fb6b8-9203-4b02-f3b4-e5801884970d"
      },
      "execution_count": null,
      "outputs": [
        {
          "output_type": "execute_result",
          "data": {
            "text/plain": [
              "<matplotlib.axes._subplots.AxesSubplot at 0x7f759bb70e50>"
            ]
          },
          "metadata": {},
          "execution_count": 13
        },
        {
          "output_type": "display_data",
          "data": {
            "text/plain": [
              "<Figure size 432x288 with 1 Axes>"
            ],
            "image/png": "[encoded data removed]"
          },
          "metadata": {
            "needs_background": "light"
          }
        }
      ]
    },
    {
      "cell_type": "code",
      "source": [
        "sns.set_style(style='whitegrid')\n",
        "sns.distplot(df['Class'])"
      ],
      "metadata": {
        "colab": {
          "base_uri": "https://localhost:8080/",
          "height": 354
        },
        "id": "K8SuiNLGX9GS",
        "outputId": "acaa648b-e330-44ef-b0f7-49a858518545"
      },
      "execution_count": null,
      "outputs": [
        {
          "output_type": "stream",
          "name": "stderr",
          "text": [
            "/usr/local/lib/python3.8/dist-packages/seaborn/distributions.py:2619: FutureWarning: `distplot` is a deprecated function and will be removed in a future version. Please adapt your code to use either `displot` (a figure-level function with similar flexibility) or `histplot` (an axes-level function for histograms).\n",
            "  warnings.warn(msg, FutureWarning)\n"
          ]
        },
        {
          "output_type": "execute_result",
          "data": {
            "text/plain": [
              "<matplotlib.axes._subplots.AxesSubplot at 0x7f759b2c6400>"
            ]
          },
          "metadata": {},
          "execution_count": 14
        },
        {
          "output_type": "display_data",
          "data": {
            "text/plain": [
              "<Figure size 432x288 with 1 Axes>"
            ],
            "image/png": "[encoded data removed]"
          },
          "metadata": {}
        }
      ]
    },
    {
      "cell_type": "markdown",
      "source": [
        "##SPLITTING "
      ],
      "metadata": {
        "id": "tt1x0V6JYP2P"
      }
    },
    {
      "cell_type": "code",
      "source": [
        "X = df.drop('Class', axis = 1).values\n",
        "y = df['Class'].values"
      ],
      "metadata": {
        "id": "R4toqd_eYXGT"
      },
      "execution_count": null,
      "outputs": []
    },
    {
      "cell_type": "code",
      "source": [
        "X_train, X_test, y_train, y_test = train_test_split(X, y, test_size = 0.25, random_state = 1)"
      ],
      "metadata": {
        "id": "ZOYb1sjAYpnZ"
      },
      "execution_count": null,
      "outputs": []
    },
    {
      "cell_type": "code",
      "source": [
        "X_train.shape"
      ],
      "metadata": {
        "colab": {
          "base_uri": "https://localhost:8080/"
        },
        "id": "qhOBhKLyZiW_",
        "outputId": "a7be0e3f-3f78-4831-812e-46c9e0bbe0b2"
      },
      "execution_count": null,
      "outputs": [
        {
          "output_type": "execute_result",
          "data": {
            "text/plain": [
              "(212794, 30)"
            ]
          },
          "metadata": {},
          "execution_count": 23
        }
      ]
    },
    {
      "cell_type": "code",
      "source": [
        "X_test.shape"
      ],
      "metadata": {
        "colab": {
          "base_uri": "https://localhost:8080/"
        },
        "id": "HCBJQN3nZk0q",
        "outputId": "ca5ac4de-a163-4d0b-a7fe-19606efaff00"
      },
      "execution_count": null,
      "outputs": [
        {
          "output_type": "execute_result",
          "data": {
            "text/plain": [
              "(70932, 30)"
            ]
          },
          "metadata": {},
          "execution_count": 25
        }
      ]
    },
    {
      "cell_type": "code",
      "source": [
        "y_train.shape"
      ],
      "metadata": {
        "colab": {
          "base_uri": "https://localhost:8080/"
        },
        "id": "0785xYQpZnKX",
        "outputId": "65507dd6-c7e2-41ec-8844-7166fbbc9a9f"
      },
      "execution_count": null,
      "outputs": [
        {
          "output_type": "execute_result",
          "data": {
            "text/plain": [
              "(212794,)"
            ]
          },
          "metadata": {},
          "execution_count": 24
        }
      ]
    },
    {
      "cell_type": "code",
      "source": [
        "y_test.shape"
      ],
      "metadata": {
        "colab": {
          "base_uri": "https://localhost:8080/"
        },
        "id": "QEetIu17Zomy",
        "outputId": "e51162d1-36a3-4988-d257-da7c7b845f22"
      },
      "execution_count": null,
      "outputs": [
        {
          "output_type": "execute_result",
          "data": {
            "text/plain": [
              "(70932,)"
            ]
          },
          "metadata": {},
          "execution_count": 26
        }
      ]
    },
    {
      "cell_type": "markdown",
      "source": [
        "##DECISION TREE"
      ],
      "metadata": {
        "id": "FCulgnA6ZYM1"
      }
    },
    {
      "cell_type": "code",
      "source": [
        "from sklearn.tree import DecisionTreeRegressor\n",
        "regressor = DecisionTreeRegressor()\n",
        "regressor.fit(X_train, y_train)"
      ],
      "metadata": {
        "colab": {
          "base_uri": "https://localhost:8080/"
        },
        "id": "QF5mza6UZLHD",
        "outputId": "898c845e-9f28-48ea-f045-354ebe4a9901"
      },
      "execution_count": null,
      "outputs": [
        {
          "output_type": "execute_result",
          "data": {
            "text/plain": [
              "DecisionTreeRegressor()"
            ]
          },
          "metadata": {},
          "execution_count": 27
        }
      ]
    },
    {
      "cell_type": "code",
      "source": [
        "print('Train Score is : ' , regressor.score(X_train, y_train))\n",
        "print('Test Score is : ' , regressor.score(X_test, y_test))"
      ],
      "metadata": {
        "colab": {
          "base_uri": "https://localhost:8080/"
        },
        "id": "dNSou4N-ZtqN",
        "outputId": "b4320a29-222b-437b-d61c-25166cfd18b5"
      },
      "execution_count": null,
      "outputs": [
        {
          "output_type": "stream",
          "name": "stdout",
          "text": [
            "Train Score is :  1.0\n",
            "Test Score is :  0.28980773822207273\n"
          ]
        }
      ]
    },
    {
      "cell_type": "code",
      "source": [
        "y_pred = regressor.predict(X_test)"
      ],
      "metadata": {
        "id": "RnFZ2MFqaJm1"
      },
      "execution_count": null,
      "outputs": []
    },
    {
      "cell_type": "code",
      "source": [
        "from sklearn.metrics import confusion_matrix\n",
        "cm = confusion_matrix(y_test, y_pred)"
      ],
      "metadata": {
        "id": "8jyPvDAbaNtw"
      },
      "execution_count": null,
      "outputs": []
    },
    {
      "cell_type": "code",
      "source": [
        "import seaborn as sns\n",
        "\n",
        "\n",
        "cm = confusion_matrix(y_test, y_pred)\n",
        "f = sns.heatmap(cm, annot=True, fmt='d')"
      ],
      "metadata": {
        "colab": {
          "base_uri": "https://localhost:8080/",
          "height": 267
        },
        "id": "nWtNQR0qaQLJ",
        "outputId": "1bd14873-ad55-467b-b592-a5fd26a0ca85"
      },
      "execution_count": null,
      "outputs": [
        {
          "output_type": "display_data",
          "data": {
            "text/plain": [
              "<Figure size 432x288 with 2 Axes>"
            ],
            "image/png": "[encoded data removed]"
          },
          "metadata": {}
        }
      ]
    },
    {
      "cell_type": "code",
      "source": [
        "print(\"Accuracy:\",metrics.accuracy_score(y_test, y_pred))"
      ],
      "metadata": {
        "colab": {
          "base_uri": "https://localhost:8080/"
        },
        "id": "v7mMuWukaxb4",
        "outputId": "8226ab49-244a-4a6d-e7eb-07732322bef7"
      },
      "execution_count": null,
      "outputs": [
        {
          "output_type": "stream",
          "name": "stdout",
          "text": [
            "Accuracy: 0.9989003552698359\n"
          ]
        }
      ]
    },
    {
      "cell_type": "code",
      "source": [
        "from sklearn import tree \n",
        "plt.figure(figsize=(20,12))  # set plot size (denoted in inches)\n",
        "tree.plot_tree(regressor,fontsize=5) "
      ],
      "metadata": {
        "colab": {
          "base_uri": "https://localhost:8080/",
          "height": 1000
        },
        "id": "pXoJ3WJeaTsE",
        "outputId": "97583061-9234-4516-cdfc-b410135d858d"
      },
      "execution_count": null,
      "outputs": [
        {
          "output_type": "execute_result",
          "data": {
            "text/plain": [
              "[Text(0.31650991503256654, 0.9772727272727273, 'X[17] <= -2.704\\nsquared_error = 0.002\\nsamples = 212794\\nvalue = 0.002'),\n",
              " Text(0.19401330376940132, 0.9318181818181818, 'X[12] <= -2.181\\nsquared_error = 0.176\\nsamples = 328\\nvalue = 0.771'),\n",
              " Text(0.14855875831485588, 0.8863636363636364, 'X[26] <= -0.225\\nsquared_error = 0.144\\nsamples = 304\\nvalue = 0.826'),\n",
              " Text(0.08425720620842572, 0.8409090909090909, 'X[27] <= 0.915\\nsquared_error = 0.235\\nsamples = 98\\nvalue = 0.622'),\n",
              " Text(0.04434589800443459, 0.7954545454545454, 'X[14] <= -3.875\\nsquared_error = 0.154\\nsamples = 63\\nvalue = 0.81'),\n",
              " Text(0.017738359201773836, 0.75, 'X[8] <= -15.198\\nsquared_error = 0.043\\nsamples = 44\\nvalue = 0.955'),\n",
              " Text(0.008869179600886918, 0.7045454545454546, 'squared_error = 0.0\\nsamples = 1\\nvalue = 0.0'),\n",
              " Text(0.026607538802660754, 0.7045454545454546, 'X[28] <= 0.791\\nsquared_error = 0.023\\nsamples = 43\\nvalue = 0.977'),\n",
              " Text(0.017738359201773836, 0.6590909090909091, 'squared_error = 0.0\\nsamples = 39\\nvalue = 1.0'),\n",
              " Text(0.03547671840354767, 0.6590909090909091, 'X[18] <= -4.494\\nsquared_error = 0.188\\nsamples = 4\\nvalue = 0.75'),\n",
              " Text(0.026607538802660754, 0.6136363636363636, 'squared_error = 0.0\\nsamples = 1\\nvalue = 0.0'),\n",
              " Text(0.04434589800443459, 0.6136363636363636, 'squared_error = 0.0\\nsamples = 3\\nvalue = 1.0'),\n",
              " Text(0.07095343680709534, 0.75, 'X[25] <= 0.179\\nsquared_error = 0.249\\nsamples = 19\\nvalue = 0.474'),\n",
              " Text(0.06208425720620843, 0.7045454545454546, 'X[0] <= 121035.5\\nsquared_error = 0.188\\nsamples = 12\\nvalue = 0.75'),\n",
              " Text(0.05321507760532151, 0.6590909090909091, 'squared_error = 0.0\\nsamples = 9\\nvalue = 1.0'),\n",
              " Text(0.07095343680709534, 0.6590909090909091, 'squared_error = 0.0\\nsamples = 3\\nvalue = 0.0'),\n",
              " Text(0.07982261640798226, 0.7045454545454546, 'squared_error = 0.0\\nsamples = 7\\nvalue = 0.0'),\n",
              " Text(0.12416851441241686, 0.7954545454545454, 'X[29] <= 0.027\\nsquared_error = 0.204\\nsamples = 35\\nvalue = 0.286'),\n",
              " Text(0.10643015521064302, 0.75, 'X[26] <= -0.353\\nsquared_error = 0.071\\nsamples = 26\\nvalue = 0.077'),\n",
              " Text(0.0975609756097561, 0.7045454545454546, 'squared_error = 0.0\\nsamples = 2\\nvalue = 1.0'),\n",
              " Text(0.11529933481152993, 0.7045454545454546, 'squared_error = 0.0\\nsamples = 24\\nvalue = 0.0'),\n",
              " Text(0.1419068736141907, 0.75, 'X[24] <= -0.308\\nsquared_error = 0.099\\nsamples = 9\\nvalue = 0.889'),\n",
              " Text(0.13303769401330376, 0.7045454545454546, 'squared_error = 0.0\\nsamples = 1\\nvalue = 0.0'),\n",
              " Text(0.15077605321507762, 0.7045454545454546, 'squared_error = 0.0\\nsamples = 8\\nvalue = 1.0'),\n",
              " Text(0.21286031042128603, 0.8409090909090909, 'X[4] <= 1.166\\nsquared_error = 0.072\\nsamples = 206\\nvalue = 0.922'),\n",
              " Text(0.16851441241685144, 0.7954545454545454, 'X[5] <= -1.155\\nsquared_error = 0.243\\nsamples = 12\\nvalue = 0.417'),\n",
              " Text(0.15964523281596452, 0.75, 'squared_error = 0.0\\nsamples = 6\\nvalue = 0.0'),\n",
              " Text(0.17738359201773837, 0.75, 'X[21] <= 0.831\\nsquared_error = 0.139\\nsamples = 6\\nvalue = 0.833'),\n",
              " Text(0.16851441241685144, 0.7045454545454546, 'squared_error = 0.0\\nsamples = 5\\nvalue = 1.0'),\n",
              " Text(0.18625277161862527, 0.7045454545454546, 'squared_error = 0.0\\nsamples = 1\\nvalue = 0.0'),\n",
              " Text(0.2572062084257206, 0.7954545454545454, 'X[10] <= -1.369\\nsquared_error = 0.044\\nsamples = 194\\nvalue = 0.954'),\n",
              " Text(0.23059866962305986, 0.75, 'X[28] <= 0.945\\nsquared_error = 0.026\\nsamples = 186\\nvalue = 0.973'),\n",
              " Text(0.2039911308203991, 0.7045454545454546, 'X[4] <= 1.735\\nsquared_error = 0.017\\nsamples = 178\\nvalue = 0.983'),\n",
              " Text(0.17738359201773837, 0.6590909090909091, 'X[5] <= 0.011\\nsquared_error = 0.122\\nsamples = 14\\nvalue = 0.857'),\n",
              " Text(0.16851441241685144, 0.6136363636363636, 'squared_error = 0.0\\nsamples = 11\\nvalue = 1.0'),\n",
              " Text(0.18625277161862527, 0.6136363636363636, 'X[19] <= 0.832\\nsquared_error = 0.222\\nsamples = 3\\nvalue = 0.333'),\n",
              " Text(0.17738359201773837, 0.5681818181818182, 'squared_error = 0.0\\nsamples = 1\\nvalue = 1.0'),\n",
              " Text(0.1951219512195122, 0.5681818181818182, 'squared_error = 0.0\\nsamples = 2\\nvalue = 0.0'),\n",
              " Text(0.23059866962305986, 0.6590909090909091, 'X[13] <= -1.626\\nsquared_error = 0.006\\nsamples = 164\\nvalue = 0.994'),\n",
              " Text(0.22172949002217296, 0.6136363636363636, 'X[25] <= 0.771\\nsquared_error = 0.099\\nsamples = 9\\nvalue = 0.889'),\n",
              " Text(0.21286031042128603, 0.5681818181818182, 'squared_error = 0.0\\nsamples = 8\\nvalue = 1.0'),\n",
              " Text(0.23059866962305986, 0.5681818181818182, 'squared_error = 0.0\\nsamples = 1\\nvalue = 0.0'),\n",
              " Text(0.2394678492239468, 0.6136363636363636, 'squared_error = 0.0\\nsamples = 155\\nvalue = 1.0'),\n",
              " Text(0.2572062084257206, 0.7045454545454546, 'X[21] <= 1.515\\nsquared_error = 0.188\\nsamples = 8\\nvalue = 0.75'),\n",
              " Text(0.24833702882483372, 0.6590909090909091, 'squared_error = 0.0\\nsamples = 2\\nvalue = 0.0'),\n",
              " Text(0.2660753880266075, 0.6590909090909091, 'squared_error = 0.0\\nsamples = 6\\nvalue = 1.0'),\n",
              " Text(0.2838137472283814, 0.75, 'X[14] <= -3.892\\nsquared_error = 0.25\\nsamples = 8\\nvalue = 0.5'),\n",
              " Text(0.2749445676274945, 0.7045454545454546, 'squared_error = 0.0\\nsamples = 4\\nvalue = 1.0'),\n",
              " Text(0.2926829268292683, 0.7045454545454546, 'squared_error = 0.0\\nsamples = 4\\nvalue = 0.0'),\n",
              " Text(0.2394678492239468, 0.8863636363636364, 'X[7] <= -3.562\\nsquared_error = 0.076\\nsamples = 24\\nvalue = 0.083'),\n",
              " Text(0.23059866962305986, 0.8409090909090909, 'squared_error = 0.0\\nsamples = 2\\nvalue = 1.0'),\n",
              " Text(0.24833702882483372, 0.8409090909090909, 'squared_error = 0.0\\nsamples = 22\\nvalue = 0.0'),\n",
              " Text(0.4390065262957317, 0.9318181818181818, 'X[12] <= -4.839\\nsquared_error = 0.001\\nsamples = 212466\\nvalue = 0.001'),\n",
              " Text(0.43013734669484477, 0.8863636363636364, 'squared_error = 0.0\\nsamples = 20\\nvalue = 1.0'),\n",
              " Text(0.4478757058966186, 0.8863636363636364, 'X[14] <= -4.661\\nsquared_error = 0.0\\nsamples = 212446\\nvalue = 0.0'),\n",
              " Text(0.3458980044345898, 0.8409090909090909, 'X[10] <= -1.847\\nsquared_error = 0.157\\nsamples = 175\\nvalue = 0.194'),\n",
              " Text(0.328159645232816, 0.7954545454545454, 'X[16] <= 2.75\\nsquared_error = 0.174\\nsamples = 40\\nvalue = 0.775'),\n",
              " Text(0.31929046563192903, 0.75, 'X[5] <= 5.993\\nsquared_error = 0.057\\nsamples = 33\\nvalue = 0.939'),\n",
              " Text(0.31042128603104213, 0.7045454545454546, 'X[4] <= 0.91\\nsquared_error = 0.03\\nsamples = 32\\nvalue = 0.969'),\n",
              " Text(0.30155210643015523, 0.6590909090909091, 'squared_error = 0.0\\nsamples = 1\\nvalue = 0.0'),\n",
              " Text(0.31929046563192903, 0.6590909090909091, 'squared_error = 0.0\\nsamples = 31\\nvalue = 1.0'),\n",
              " Text(0.328159645232816, 0.7045454545454546, 'squared_error = 0.0\\nsamples = 1\\nvalue = 0.0'),\n",
              " Text(0.3370288248337029, 0.75, 'squared_error = 0.0\\nsamples = 7\\nvalue = 0.0'),\n",
              " Text(0.36363636363636365, 0.7954545454545454, 'X[15] <= -1.311\\nsquared_error = 0.022\\nsamples = 135\\nvalue = 0.022'),\n",
              " Text(0.35476718403547675, 0.75, 'squared_error = 0.0\\nsamples = 1\\nvalue = 1.0'),\n",
              " Text(0.37250554323725055, 0.75, 'X[21] <= -0.046\\nsquared_error = 0.015\\nsamples = 134\\nvalue = 0.015'),\n",
              " Text(0.36363636363636365, 0.7045454545454546, 'squared_error = 0.0\\nsamples = 127\\nvalue = 0.0'),\n",
              " Text(0.38137472283813745, 0.7045454545454546, 'X[17] <= 3.388\\nsquared_error = 0.204\\nsamples = 7\\nvalue = 0.286'),\n",
              " Text(0.37250554323725055, 0.6590909090909091, 'squared_error = 0.0\\nsamples = 5\\nvalue = 0.0'),\n",
              " Text(0.3902439024390244, 0.6590909090909091, 'squared_error = 0.0\\nsamples = 2\\nvalue = 1.0'),\n",
              " Text(0.5498534073586474, 0.8409090909090909, 'X[14] <= -4.25\\nsquared_error = 0.0\\nsamples = 212271\\nvalue = 0.0'),\n",
              " Text(0.41685144124168516, 0.7954545454545454, 'X[15] <= -1.238\\nsquared_error = 0.033\\nsamples = 87\\nvalue = 0.034'),\n",
              " Text(0.4079822616407982, 0.75, 'squared_error = 0.0\\nsamples = 2\\nvalue = 1.0'),\n",
              " Text(0.42572062084257206, 0.75, 'X[10] <= -1.918\\nsquared_error = 0.012\\nsamples = 85\\nvalue = 0.012'),\n",
              " Text(0.41685144124168516, 0.7045454545454546, 'X[5] <= 1.052\\nsquared_error = 0.222\\nsamples = 3\\nvalue = 0.333'),\n",
              " Text(0.4079822616407982, 0.6590909090909091, 'squared_error = 0.0\\nsamples = 1\\nvalue = 1.0'),\n",
              " Text(0.42572062084257206, 0.6590909090909091, 'squared_error = 0.0\\nsamples = 2\\nvalue = 0.0'),\n",
              " Text(0.43458980044345896, 0.7045454545454546, 'squared_error = 0.0\\nsamples = 82\\nvalue = 0.0'),\n",
              " Text(0.6828553734756098, 0.7954545454545454, 'X[14] <= -1.816\\nsquared_error = 0.0\\nsamples = 212184\\nvalue = 0.0'),\n",
              " Text(0.4950110864745011, 0.75, 'X[14] <= -1.816\\nsquared_error = 0.003\\nsamples = 5777\\nvalue = 0.003'),\n",
              " Text(0.4861419068736142, 0.7045454545454546, 'X[21] <= 6.144\\nsquared_error = 0.003\\nsamples = 5776\\nvalue = 0.003'),\n",
              " Text(0.4434589800443459, 0.6590909090909091, 'X[4] <= 2.674\\nsquared_error = 0.002\\nsamples = 5768\\nvalue = 0.002'),\n",
              " Text(0.38470066518847007, 0.6136363636363636, 'X[29] <= 0.751\\nsquared_error = 0.001\\nsamples = 5372\\nvalue = 0.001'),\n",
              " Text(0.3558758314855876, 0.5681818181818182, 'X[14] <= -1.825\\nsquared_error = 0.001\\nsamples = 5173\\nvalue = 0.001'),\n",
              " Text(0.33370288248337027, 0.5227272727272727, 'X[0] <= 170344.0\\nsquared_error = 0.0\\nsamples = 5121\\nvalue = 0.0'),\n",
              " Text(0.31596452328159647, 0.4772727272727273, 'X[12] <= 0.904\\nsquared_error = 0.0\\nsamples = 5037\\nvalue = 0.0'),\n",
              " Text(0.3070953436807095, 0.4318181818181818, 'squared_error = 0.0\\nsamples = 4883\\nvalue = 0.0'),\n",
              " Text(0.32483370288248337, 0.4318181818181818, 'X[12] <= 0.904\\nsquared_error = 0.006\\nsamples = 154\\nvalue = 0.006'),\n",
              " Text(0.31596452328159647, 0.38636363636363635, 'squared_error = 0.0\\nsamples = 1\\nvalue = 1.0'),\n",
              " Text(0.33370288248337027, 0.38636363636363635, 'squared_error = 0.0\\nsamples = 153\\nvalue = 0.0'),\n",
              " Text(0.3514412416851441, 0.4772727272727273, 'X[0] <= 170358.0\\nsquared_error = 0.012\\nsamples = 84\\nvalue = 0.012'),\n",
              " Text(0.3425720620842572, 0.4318181818181818, 'squared_error = 0.0\\nsamples = 1\\nvalue = 1.0'),\n",
              " Text(0.360310421286031, 0.4318181818181818, 'squared_error = 0.0\\nsamples = 83\\nvalue = 0.0'),\n",
              " Text(0.3780487804878049, 0.5227272727272727, 'X[14] <= -1.825\\nsquared_error = 0.019\\nsamples = 52\\nvalue = 0.019'),\n",
              " Text(0.369179600886918, 0.4772727272727273, 'squared_error = 0.0\\nsamples = 1\\nvalue = 1.0'),\n",
              " Text(0.3869179600886918, 0.4772727272727273, 'squared_error = 0.0\\nsamples = 51\\nvalue = 0.0'),\n",
              " Text(0.41352549889135254, 0.5681818181818182, 'X[29] <= 0.753\\nsquared_error = 0.02\\nsamples = 199\\nvalue = 0.02'),\n",
              " Text(0.40465631929046564, 0.5227272727272727, 'squared_error = 0.0\\nsamples = 1\\nvalue = 1.0'),\n",
              " Text(0.4223946784922395, 0.5227272727272727, 'X[10] <= -1.955\\nsquared_error = 0.015\\nsamples = 198\\nvalue = 0.015'),\n",
              " Text(0.40465631929046564, 0.4772727272727273, 'X[16] <= -1.217\\nsquared_error = 0.099\\nsamples = 18\\nvalue = 0.111'),\n",
              " Text(0.39578713968957874, 0.4318181818181818, 'squared_error = 0.0\\nsamples = 1\\nvalue = 1.0'),\n",
              " Text(0.41352549889135254, 0.4318181818181818, 'X[25] <= 1.278\\nsquared_error = 0.055\\nsamples = 17\\nvalue = 0.059'),\n",
              " Text(0.40465631929046564, 0.38636363636363635, 'squared_error = 0.0\\nsamples = 16\\nvalue = 0.0'),\n",
              " Text(0.4223946784922395, 0.38636363636363635, 'squared_error = 0.0\\nsamples = 1\\nvalue = 1.0'),\n",
              " Text(0.4401330376940133, 0.4772727272727273, 'X[1] <= 1.317\\nsquared_error = 0.006\\nsamples = 180\\nvalue = 0.006'),\n",
              " Text(0.4312638580931264, 0.4318181818181818, 'squared_error = 0.0\\nsamples = 160\\nvalue = 0.0'),\n",
              " Text(0.4490022172949002, 0.4318181818181818, 'X[28] <= 0.068\\nsquared_error = 0.048\\nsamples = 20\\nvalue = 0.05'),\n",
              " Text(0.4401330376940133, 0.38636363636363635, 'squared_error = 0.0\\nsamples = 19\\nvalue = 0.0'),\n",
              " Text(0.45787139689578715, 0.38636363636363635, 'squared_error = 0.0\\nsamples = 1\\nvalue = 1.0'),\n",
              " Text(0.5022172949002217, 0.6136363636363636, 'X[4] <= 2.676\\nsquared_error = 0.017\\nsamples = 396\\nvalue = 0.018'),\n",
              " Text(0.4933481152993348, 0.5681818181818182, 'squared_error = 0.0\\nsamples = 1\\nvalue = 1.0'),\n",
              " Text(0.5110864745011087, 0.5681818181818182, 'X[21] <= -0.01\\nsquared_error = 0.015\\nsamples = 395\\nvalue = 0.015'),\n",
              " Text(0.4844789356984479, 0.5227272727272727, 'X[15] <= -1.374\\nsquared_error = 0.003\\nsamples = 340\\nvalue = 0.003'),\n",
              " Text(0.47560975609756095, 0.4772727272727273, 'X[15] <= -1.405\\nsquared_error = 0.026\\nsamples = 38\\nvalue = 0.026'),\n",
              " Text(0.46674057649667405, 0.4318181818181818, 'squared_error = 0.0\\nsamples = 37\\nvalue = 0.0'),\n",
              " Text(0.4844789356984479, 0.4318181818181818, 'squared_error = 0.0\\nsamples = 1\\nvalue = 1.0'),\n",
              " Text(0.4933481152993348, 0.4772727272727273, 'squared_error = 0.0\\nsamples = 302\\nvalue = 0.0'),\n",
              " Text(0.5376940133037694, 0.5227272727272727, 'X[1] <= 1.789\\nsquared_error = 0.083\\nsamples = 55\\nvalue = 0.091'),\n",
              " Text(0.5110864745011087, 0.4772727272727273, 'X[21] <= -0.007\\nsquared_error = 0.04\\nsamples = 48\\nvalue = 0.042'),\n",
              " Text(0.5022172949002217, 0.4318181818181818, 'squared_error = 0.0\\nsamples = 1\\nvalue = 1.0'),\n",
              " Text(0.5199556541019955, 0.4318181818181818, 'X[29] <= 2.456\\nsquared_error = 0.021\\nsamples = 47\\nvalue = 0.021'),\n",
              " Text(0.5110864745011087, 0.38636363636363635, 'squared_error = 0.0\\nsamples = 45\\nvalue = 0.0'),\n",
              " Text(0.5288248337028825, 0.38636363636363635, 'X[15] <= -0.691\\nsquared_error = 0.25\\nsamples = 2\\nvalue = 0.5'),\n",
              " Text(0.5199556541019955, 0.3409090909090909, 'squared_error = 0.0\\nsamples = 1\\nvalue = 0.0'),\n",
              " Text(0.5376940133037694, 0.3409090909090909, 'squared_error = 0.0\\nsamples = 1\\nvalue = 1.0'),\n",
              " Text(0.5643015521064302, 0.4772727272727273, 'X[5] <= 1.711\\nsquared_error = 0.245\\nsamples = 7\\nvalue = 0.429'),\n",
              " Text(0.5554323725055432, 0.4318181818181818, 'X[11] <= -0.512\\nsquared_error = 0.188\\nsamples = 4\\nvalue = 0.75'),\n",
              " Text(0.5465631929046563, 0.38636363636363635, 'squared_error = 0.0\\nsamples = 1\\nvalue = 0.0'),\n",
              " Text(0.5643015521064302, 0.38636363636363635, 'squared_error = 0.0\\nsamples = 3\\nvalue = 1.0'),\n",
              " Text(0.573170731707317, 0.4318181818181818, 'squared_error = 0.0\\nsamples = 3\\nvalue = 0.0'),\n",
              " Text(0.5288248337028825, 0.6590909090909091, 'X[1] <= -2.622\\nsquared_error = 0.188\\nsamples = 8\\nvalue = 0.25'),\n",
              " Text(0.5199556541019955, 0.6136363636363636, 'squared_error = 0.0\\nsamples = 6\\nvalue = 0.0'),\n",
              " Text(0.5376940133037694, 0.6136363636363636, 'squared_error = 0.0\\nsamples = 2\\nvalue = 1.0'),\n",
              " Text(0.503880266075388, 0.7045454545454546, 'squared_error = 0.0\\nsamples = 1\\nvalue = 1.0'),\n",
              " Text(0.8706996604767184, 0.75, 'X[17] <= -2.039\\nsquared_error = 0.0\\nsamples = 206407\\nvalue = 0.0'),\n",
              " Text(0.8395579268292683, 0.7045454545454546, 'X[12] <= -0.759\\nsquared_error = 0.109\\nsamples = 8\\nvalue = 0.125'),\n",
              " Text(0.8306887472283814, 0.6590909090909091, 'squared_error = 0.0\\nsamples = 1\\nvalue = 1.0'),\n",
              " Text(0.8484271064301552, 0.6590909090909091, 'squared_error = 0.0\\nsamples = 7\\nvalue = 0.0'),\n",
              " Text(0.9018413941241685, 0.7045454545454546, 'X[23] <= -15.449\\nsquared_error = 0.0\\nsamples = 206399\\nvalue = 0.0'),\n",
              " Text(0.8661654656319291, 0.6590909090909091, 'X[15] <= -0.664\\nsquared_error = 0.05\\nsamples = 19\\nvalue = 0.053'),\n",
              " Text(0.8572962860310421, 0.6136363636363636, 'squared_error = 0.0\\nsamples = 1\\nvalue = 1.0'),\n",
              " Text(0.8750346452328159, 0.6136363636363636, 'squared_error = 0.0\\nsamples = 18\\nvalue = 0.0'),\n",
              " Text(0.937517322616408, 0.6590909090909091, 'X[26] <= 2.744\\nsquared_error = 0.0\\nsamples = 206380\\nvalue = 0.0'),\n",
              " Text(0.8927730044345898, 0.6136363636363636, 'X[4] <= 4.821\\nsquared_error = 0.0\\nsamples = 206347\\nvalue = 0.0'),\n",
              " Text(0.8298919068736141, 0.5681818181818182, 'X[22] <= 2.151\\nsquared_error = 0.0\\nsamples = 205886\\nvalue = 0.0'),\n",
              " Text(0.7573447893569845, 0.5227272727272727, 'X[4] <= 1.715\\nsquared_error = 0.0\\nsamples = 205643\\nvalue = 0.0'),\n",
              " Text(0.6859756097560976, 0.4772727272727273, 'X[20] <= 3.972\\nsquared_error = 0.0\\nsamples = 190431\\nvalue = 0.0'),\n",
              " Text(0.6457871396895787, 0.4318181818181818, 'X[29] <= 0.807\\nsquared_error = 0.0\\nsamples = 190247\\nvalue = 0.0'),\n",
              " Text(0.5920177383592018, 0.38636363636363635, 'X[17] <= 1.132\\nsquared_error = 0.0\\nsamples = 178457\\nvalue = 0.0'),\n",
              " Text(0.5554323725055432, 0.3409090909090909, 'X[27] <= 1.214\\nsquared_error = 0.0\\nsamples = 170166\\nvalue = 0.0'),\n",
              " Text(0.5310421286031042, 0.29545454545454547, 'X[16] <= -2.156\\nsquared_error = 0.0\\nsamples = 169685\\nvalue = 0.0'),\n",
              " Text(0.508869179600887, 0.25, 'X[16] <= -2.156\\nsquared_error = 0.001\\nsamples = 1997\\nvalue = 0.001'),\n",
              " Text(0.5, 0.20454545454545456, 'squared_error = 0.0\\nsamples = 1996\\nvalue = 0.0'),\n",
              " Text(0.5177383592017738, 0.20454545454545456, 'squared_error = 0.0\\nsamples = 1\\nvalue = 1.0'),\n",
              " Text(0.5532150776053215, 0.25, 'X[16] <= 1.533\\nsquared_error = 0.0\\nsamples = 167688\\nvalue = 0.0'),\n",
              " Text(0.5354767184035477, 0.20454545454545456, 'X[6] <= -1.347\\nsquared_error = 0.0\\nsamples = 163857\\nvalue = 0.0'),\n",
              " Text(0.5266075388026608, 0.1590909090909091, 'X[6] <= -1.347\\nsquared_error = 0.0\\nsamples = 8618\\nvalue = 0.0'),\n",
              " Text(0.5177383592017738, 0.11363636363636363, 'squared_error = 0.0\\nsamples = 8617\\nvalue = 0.0'),\n",
              " Text(0.5354767184035477, 0.11363636363636363, 'squared_error = 0.0\\nsamples = 1\\nvalue = 1.0'),\n",
              " Text(0.5443458980044346, 0.1590909090909091, 'squared_error = 0.0\\nsamples = 155239\\nvalue = 0.0'),\n",
              " Text(0.5709534368070953, 0.20454545454545456, 'X[16] <= 1.533\\nsquared_error = 0.0\\nsamples = 3831\\nvalue = 0.0'),\n",
              " Text(0.5620842572062085, 0.1590909090909091, 'squared_error = 0.0\\nsamples = 1\\nvalue = 1.0'),\n",
              " Text(0.5798226164079823, 0.1590909090909091, 'squared_error = 0.0\\nsamples = 3830\\nvalue = 0.0'),\n",
              " Text(0.5798226164079823, 0.29545454545454547, 'X[27] <= 1.215\\nsquared_error = 0.002\\nsamples = 481\\nvalue = 0.002'),\n",
              " Text(0.5709534368070953, 0.25, 'squared_error = 0.0\\nsamples = 1\\nvalue = 1.0'),\n",
              " Text(0.5886917960088692, 0.25, 'squared_error = 0.0\\nsamples = 480\\nvalue = 0.0'),\n",
              " Text(0.6286031042128604, 0.3409090909090909, 'X[17] <= 1.132\\nsquared_error = 0.001\\nsamples = 8291\\nvalue = 0.001'),\n",
              " Text(0.6197339246119734, 0.29545454545454547, 'squared_error = 0.0\\nsamples = 1\\nvalue = 1.0'),\n",
              " Text(0.6374722838137472, 0.29545454545454547, 'X[8] <= -2.55\\nsquared_error = 0.0\\nsamples = 8290\\nvalue = 0.0'),\n",
              " Text(0.61529933481153, 0.25, 'X[8] <= -2.557\\nsquared_error = 0.005\\nsamples = 394\\nvalue = 0.005'),\n",
              " Text(0.606430155210643, 0.20454545454545456, 'X[15] <= 1.737\\nsquared_error = 0.003\\nsamples = 393\\nvalue = 0.003'),\n",
              " Text(0.5975609756097561, 0.1590909090909091, 'squared_error = 0.0\\nsamples = 379\\nvalue = 0.0'),\n",
              " Text(0.61529933481153, 0.1590909090909091, 'X[0] <= 43513.0\\nsquared_error = 0.066\\nsamples = 14\\nvalue = 0.071'),\n",
              " Text(0.606430155210643, 0.11363636363636363, 'squared_error = 0.0\\nsamples = 1\\nvalue = 1.0'),\n",
              " Text(0.6241685144124168, 0.11363636363636363, 'squared_error = 0.0\\nsamples = 13\\nvalue = 0.0'),\n",
              " Text(0.6241685144124168, 0.20454545454545456, 'squared_error = 0.0\\nsamples = 1\\nvalue = 1.0'),\n",
              " Text(0.6596452328159645, 0.25, 'X[17] <= 1.143\\nsquared_error = 0.0\\nsamples = 7896\\nvalue = 0.0'),\n",
              " Text(0.6419068736141907, 0.20454545454545456, 'X[17] <= 1.143\\nsquared_error = 0.005\\nsamples = 189\\nvalue = 0.005'),\n",
              " Text(0.6330376940133038, 0.1590909090909091, 'squared_error = 0.0\\nsamples = 188\\nvalue = 0.0'),\n",
              " Text(0.6507760532150776, 0.1590909090909091, 'squared_error = 0.0\\nsamples = 1\\nvalue = 1.0'),\n",
              " Text(0.6773835920177383, 0.20454545454545456, 'X[14] <= -1.635\\nsquared_error = 0.0\\nsamples = 7707\\nvalue = 0.0'),\n",
              " Text(0.6685144124168514, 0.1590909090909091, 'X[14] <= -1.635\\nsquared_error = 0.002\\nsamples = 405\\nvalue = 0.002'),\n",
              " Text(0.6596452328159645, 0.11363636363636363, 'squared_error = 0.0\\nsamples = 404\\nvalue = 0.0'),\n",
              " Text(0.6773835920177383, 0.11363636363636363, 'squared_error = 0.0\\nsamples = 1\\nvalue = 1.0'),\n",
              " Text(0.6862527716186253, 0.1590909090909091, 'squared_error = 0.0\\nsamples = 7302\\nvalue = 0.0'),\n",
              " Text(0.6995565410199557, 0.38636363636363635, 'X[29] <= 0.807\\nsquared_error = 0.001\\nsamples = 11790\\nvalue = 0.001'),\n",
              " Text(0.6906873614190687, 0.3409090909090909, 'squared_error = 0.0\\nsamples = 1\\nvalue = 1.0'),\n",
              " Text(0.7084257206208425, 0.3409090909090909, 'X[26] <= -1.123\\nsquared_error = 0.0\\nsamples = 11789\\nvalue = 0.0'),\n",
              " Text(0.6862527716186253, 0.29545454545454547, 'X[26] <= -1.126\\nsquared_error = 0.01\\nsamples = 98\\nvalue = 0.01'),\n",
              " Text(0.6773835920177383, 0.25, 'squared_error = 0.0\\nsamples = 97\\nvalue = 0.0'),\n",
              " Text(0.6951219512195121, 0.25, 'squared_error = 0.0\\nsamples = 1\\nvalue = 1.0'),\n",
              " Text(0.7305986696230599, 0.29545454545454547, 'X[13] <= -2.133\\nsquared_error = 0.0\\nsamples = 11691\\nvalue = 0.0'),\n",
              " Text(0.7128603104212861, 0.25, 'X[13] <= -2.137\\nsquared_error = 0.009\\nsamples = 109\\nvalue = 0.009'),\n",
              " Text(0.7039911308203991, 0.20454545454545456, 'squared_error = 0.0\\nsamples = 108\\nvalue = 0.0'),\n",
              " Text(0.7217294900221729, 0.20454545454545456, 'squared_error = 0.0\\nsamples = 1\\nvalue = 1.0'),\n",
              " Text(0.7483370288248337, 0.25, 'X[26] <= -0.495\\nsquared_error = 0.0\\nsamples = 11582\\nvalue = 0.0'),\n",
              " Text(0.7394678492239468, 0.20454545454545456, 'X[26] <= -0.495\\nsquared_error = 0.002\\nsamples = 1829\\nvalue = 0.002'),\n",
              " Text(0.7305986696230599, 0.1590909090909091, 'X[13] <= -1.519\\nsquared_error = 0.001\\nsamples = 1828\\nvalue = 0.001'),\n",
              " Text(0.7128603104212861, 0.11363636363636363, 'X[13] <= -1.523\\nsquared_error = 0.014\\nsamples = 73\\nvalue = 0.014'),\n",
              " Text(0.7039911308203991, 0.06818181818181818, 'squared_error = 0.0\\nsamples = 72\\nvalue = 0.0'),\n",
              " Text(0.7217294900221729, 0.06818181818181818, 'squared_error = 0.0\\nsamples = 1\\nvalue = 1.0'),\n",
              " Text(0.7483370288248337, 0.11363636363636363, 'X[7] <= 3.066\\nsquared_error = 0.001\\nsamples = 1755\\nvalue = 0.001'),\n",
              " Text(0.7394678492239468, 0.06818181818181818, 'squared_error = 0.0\\nsamples = 1626\\nvalue = 0.0'),\n",
              " Text(0.7572062084257206, 0.06818181818181818, 'X[7] <= 3.073\\nsquared_error = 0.008\\nsamples = 129\\nvalue = 0.008'),\n",
              " Text(0.7483370288248337, 0.022727272727272728, 'squared_error = 0.0\\nsamples = 1\\nvalue = 1.0'),\n",
              " Text(0.7660753880266076, 0.022727272727272728, 'squared_error = 0.0\\nsamples = 128\\nvalue = 0.0'),\n",
              " Text(0.7483370288248337, 0.1590909090909091, 'squared_error = 0.0\\nsamples = 1\\nvalue = 1.0'),\n",
              " Text(0.7572062084257206, 0.20454545454545456, 'squared_error = 0.0\\nsamples = 9753\\nvalue = 0.0'),\n",
              " Text(0.7261640798226164, 0.4318181818181818, 'X[20] <= 3.974\\nsquared_error = 0.005\\nsamples = 184\\nvalue = 0.005'),\n",
              " Text(0.7172949002217295, 0.38636363636363635, 'squared_error = 0.0\\nsamples = 1\\nvalue = 1.0'),\n",
              " Text(0.7350332594235033, 0.38636363636363635, 'squared_error = 0.0\\nsamples = 183\\nvalue = 0.0'),\n",
              " Text(0.8287139689578714, 0.4772727272727273, 'X[4] <= 1.715\\nsquared_error = 0.001\\nsamples = 15212\\nvalue = 0.001'),\n",
              " Text(0.8198447893569845, 0.4318181818181818, 'squared_error = 0.0\\nsamples = 1\\nvalue = 1.0'),\n",
              " Text(0.8375831485587583, 0.4318181818181818, 'X[0] <= 481.0\\nsquared_error = 0.001\\nsamples = 15211\\nvalue = 0.001'),\n",
              " Text(0.7993348115299335, 0.38636363636363635, 'X[6] <= -0.84\\nsquared_error = 0.029\\nsamples = 33\\nvalue = 0.03'),\n",
              " Text(0.7904656319290465, 0.3409090909090909, 'squared_error = 0.0\\nsamples = 1\\nvalue = 1.0'),\n",
              " Text(0.8082039911308204, 0.3409090909090909, 'squared_error = 0.0\\nsamples = 32\\nvalue = 0.0'),\n",
              " Text(0.8758314855875832, 0.38636363636363635, 'X[29] <= -0.337\\nsquared_error = 0.001\\nsamples = 15178\\nvalue = 0.001'),\n",
              " Text(0.8259423503325942, 0.3409090909090909, 'X[12] <= -2.777\\nsquared_error = 0.003\\nsamples = 2547\\nvalue = 0.003'),\n",
              " Text(0.7926829268292683, 0.29545454545454547, 'X[12] <= -2.786\\nsquared_error = 0.032\\nsamples = 92\\nvalue = 0.033'),\n",
              " Text(0.7838137472283814, 0.25, 'X[4] <= 1.736\\nsquared_error = 0.021\\nsamples = 91\\nvalue = 0.022'),\n",
              " Text(0.7749445676274944, 0.20454545454545456, 'squared_error = 0.0\\nsamples = 1\\nvalue = 1.0'),\n",
              " Text(0.7926829268292683, 0.20454545454545456, 'X[6] <= -1.127\\nsquared_error = 0.011\\nsamples = 90\\nvalue = 0.011'),\n",
              " Text(0.7838137472283814, 0.1590909090909091, 'X[29] <= -0.342\\nsquared_error = 0.109\\nsamples = 8\\nvalue = 0.125'),\n",
              " Text(0.7749445676274944, 0.11363636363636363, 'squared_error = 0.0\\nsamples = 7\\nvalue = 0.0'),\n",
              " Text(0.7926829268292683, 0.11363636363636363, 'squared_error = 0.0\\nsamples = 1\\nvalue = 1.0'),\n",
              " Text(0.8015521064301552, 0.1590909090909091, 'squared_error = 0.0\\nsamples = 82\\nvalue = 0.0'),\n",
              " Text(0.8015521064301552, 0.25, 'squared_error = 0.0\\nsamples = 1\\nvalue = 1.0'),\n",
              " Text(0.8592017738359202, 0.29545454545454547, 'X[8] <= -2.202\\nsquared_error = 0.002\\nsamples = 2455\\nvalue = 0.002'),\n",
              " Text(0.8370288248337029, 0.25, 'X[8] <= -2.204\\nsquared_error = 0.02\\nsamples = 98\\nvalue = 0.02'),\n",
              " Text(0.8281596452328159, 0.20454545454545456, 'X[13] <= -1.17\\nsquared_error = 0.01\\nsamples = 97\\nvalue = 0.01'),\n",
              " Text(0.8192904656319291, 0.1590909090909091, 'X[6] <= 1.464\\nsquared_error = 0.222\\nsamples = 3\\nvalue = 0.333'),\n",
              " Text(0.8104212860310421, 0.11363636363636363, 'squared_error = 0.0\\nsamples = 1\\nvalue = 1.0'),\n",
              " Text(0.8281596452328159, 0.11363636363636363, 'squared_error = 0.0\\nsamples = 2\\nvalue = 0.0'),\n",
              " Text(0.8370288248337029, 0.1590909090909091, 'squared_error = 0.0\\nsamples = 94\\nvalue = 0.0'),\n",
              " Text(0.8458980044345898, 0.20454545454545456, 'squared_error = 0.0\\nsamples = 1\\nvalue = 1.0'),\n",
              " Text(0.8813747228381374, 0.25, 'X[7] <= 1.083\\nsquared_error = 0.001\\nsamples = 2357\\nvalue = 0.001'),\n",
              " Text(0.8636363636363636, 0.20454545454545456, 'X[12] <= 1.237\\nsquared_error = 0.0\\nsamples = 2241\\nvalue = 0.0'),\n",
              " Text(0.8547671840354767, 0.1590909090909091, 'squared_error = 0.0\\nsamples = 2170\\nvalue = 0.0'),\n",
              " Text(0.8725055432372506, 0.1590909090909091, 'X[12] <= 1.238\\nsquared_error = 0.014\\nsamples = 71\\nvalue = 0.014'),\n",
              " Text(0.8636363636363636, 0.11363636363636363, 'squared_error = 0.0\\nsamples = 1\\nvalue = 1.0'),\n",
              " Text(0.8813747228381374, 0.11363636363636363, 'squared_error = 0.0\\nsamples = 70\\nvalue = 0.0'),\n",
              " Text(0.8991130820399114, 0.20454545454545456, 'X[7] <= 1.089\\nsquared_error = 0.017\\nsamples = 116\\nvalue = 0.017'),\n",
              " Text(0.8902439024390244, 0.1590909090909091, 'squared_error = 0.0\\nsamples = 1\\nvalue = 1.0'),\n",
              " Text(0.9079822616407982, 0.1590909090909091, 'X[1] <= 0.449\\nsquared_error = 0.009\\nsamples = 115\\nvalue = 0.009'),\n",
              " Text(0.8991130820399114, 0.11363636363636363, 'squared_error = 0.0\\nsamples = 111\\nvalue = 0.0'),\n",
              " Text(0.9168514412416852, 0.11363636363636363, 'X[11] <= -1.425\\nsquared_error = 0.188\\nsamples = 4\\nvalue = 0.25'),\n",
              " Text(0.9079822616407982, 0.06818181818181818, 'squared_error = 0.0\\nsamples = 1\\nvalue = 1.0'),\n",
              " Text(0.9257206208425721, 0.06818181818181818, 'squared_error = 0.0\\nsamples = 3\\nvalue = 0.0'),\n",
              " Text(0.9257206208425721, 0.3409090909090909, 'X[10] <= -2.07\\nsquared_error = 0.0\\nsamples = 12631\\nvalue = 0.0'),\n",
              " Text(0.9079822616407982, 0.29545454545454547, 'X[1] <= -1.058\\nsquared_error = 0.014\\nsamples = 68\\nvalue = 0.015'),\n",
              " Text(0.8991130820399114, 0.25, 'squared_error = 0.0\\nsamples = 67\\nvalue = 0.0'),\n",
              " Text(0.9168514412416852, 0.25, 'squared_error = 0.0\\nsamples = 1\\nvalue = 1.0'),\n",
              " Text(0.9434589800443459, 0.29545454545454547, 'X[20] <= -1.377\\nsquared_error = 0.0\\nsamples = 12563\\nvalue = 0.0'),\n",
              " Text(0.934589800443459, 0.25, 'X[20] <= -1.378\\nsquared_error = 0.003\\nsamples = 340\\nvalue = 0.003'),\n",
              " Text(0.9257206208425721, 0.20454545454545456, 'squared_error = 0.0\\nsamples = 339\\nvalue = 0.0'),\n",
              " Text(0.9434589800443459, 0.20454545454545456, 'squared_error = 0.0\\nsamples = 1\\nvalue = 1.0'),\n",
              " Text(0.9523281596452328, 0.25, 'squared_error = 0.0\\nsamples = 12223\\nvalue = 0.0'),\n",
              " Text(0.9024390243902439, 0.5227272727272727, 'X[21] <= 1.315\\nsquared_error = 0.008\\nsamples = 243\\nvalue = 0.008'),\n",
              " Text(0.893569844789357, 0.4772727272727273, 'X[26] <= 1.181\\nsquared_error = 0.004\\nsamples = 242\\nvalue = 0.004'),\n",
              " Text(0.88470066518847, 0.4318181818181818, 'squared_error = 0.0\\nsamples = 239\\nvalue = 0.0'),\n",
              " Text(0.9024390243902439, 0.4318181818181818, 'X[7] <= -5.264\\nsquared_error = 0.222\\nsamples = 3\\nvalue = 0.333'),\n",
              " Text(0.893569844789357, 0.38636363636363635, 'squared_error = 0.0\\nsamples = 1\\nvalue = 1.0'),\n",
              " Text(0.9113082039911308, 0.38636363636363635, 'squared_error = 0.0\\nsamples = 2\\nvalue = 0.0'),\n",
              " Text(0.9113082039911308, 0.4772727272727273, 'squared_error = 0.0\\nsamples = 1\\nvalue = 1.0'),\n",
              " Text(0.9556541019955654, 0.5681818181818182, 'X[4] <= 4.821\\nsquared_error = 0.006\\nsamples = 461\\nvalue = 0.007'),\n",
              " Text(0.9467849223946785, 0.5227272727272727, 'squared_error = 0.0\\nsamples = 1\\nvalue = 1.0'),\n",
              " Text(0.9645232815964523, 0.5227272727272727, 'X[10] <= 4.006\\nsquared_error = 0.004\\nsamples = 460\\nvalue = 0.004'),\n",
              " Text(0.9467849223946785, 0.4772727272727273, 'X[29] <= -0.353\\nsquared_error = 0.002\\nsamples = 455\\nvalue = 0.002'),\n",
              " Text(0.9379157427937915, 0.4318181818181818, 'X[28] <= 0.555\\nsquared_error = 0.066\\nsamples = 14\\nvalue = 0.071'),\n",
              " Text(0.9290465631929047, 0.38636363636363635, 'squared_error = 0.0\\nsamples = 13\\nvalue = 0.0'),\n",
              " Text(0.9467849223946785, 0.38636363636363635, 'squared_error = 0.0\\nsamples = 1\\nvalue = 1.0'),\n",
              " Text(0.9556541019955654, 0.4318181818181818, 'squared_error = 0.0\\nsamples = 441\\nvalue = 0.0'),\n",
              " Text(0.9822616407982262, 0.4772727272727273, 'X[9] <= 0.033\\nsquared_error = 0.16\\nsamples = 5\\nvalue = 0.2'),\n",
              " Text(0.9733924611973392, 0.4318181818181818, 'squared_error = 0.0\\nsamples = 1\\nvalue = 1.0'),\n",
              " Text(0.991130820399113, 0.4318181818181818, 'squared_error = 0.0\\nsamples = 4\\nvalue = 0.0'),\n",
              " Text(0.9822616407982262, 0.6136363636363636, 'X[26] <= 2.749\\nsquared_error = 0.029\\nsamples = 33\\nvalue = 0.03'),\n",
              " Text(0.9733924611973392, 0.5681818181818182, 'squared_error = 0.0\\nsamples = 1\\nvalue = 1.0'),\n",
              " Text(0.991130820399113, 0.5681818181818182, 'squared_error = 0.0\\nsamples = 32\\nvalue = 0.0')]"
            ]
          },
          "metadata": {},
          "execution_count": 33
        },
        {
          "output_type": "display_data",
          "data": {
            "text/plain": [
              "<Figure size 1440x864 with 1 Axes>"
            ],
            "image/png": "[encoded data removed]"
          },
          "metadata": {}
        }
      ]
    },
    {
      "cell_type": "markdown",
      "source": [
        "##ADABOOST"
      ],
      "metadata": {
        "id": "NHF8PRRtdLk3"
      }
    },
    {
      "cell_type": "code",
      "source": [
        "from sklearn.ensemble import AdaBoostClassifier"
      ],
      "metadata": {
        "id": "dzuHbygRdVHF"
      },
      "execution_count": null,
      "outputs": []
    },
    {
      "cell_type": "code",
      "source": [
        "abc = AdaBoostClassifier(n_estimators=50,\n",
        "                         learning_rate=1)\n",
        "model = abc.fit(X_train, y_train)\n",
        "y_pred = model.predict(X_test)"
      ],
      "metadata": {
        "id": "KrAXrT_2dKyP"
      },
      "execution_count": null,
      "outputs": []
    },
    {
      "cell_type": "code",
      "source": [
        "print(\"Accuracy:\",metrics.accuracy_score(y_test, y_pred))"
      ],
      "metadata": {
        "colab": {
          "base_uri": "https://localhost:8080/"
        },
        "id": "XyZS2M_6dRwI",
        "outputId": "9ab1aae1-4de2-4c77-e59c-b1fab94f1160"
      },
      "execution_count": null,
      "outputs": [
        {
          "output_type": "stream",
          "name": "stdout",
          "text": [
            "Accuracy: 0.9990695313821688\n"
          ]
        }
      ]
    },
    {
      "cell_type": "markdown",
      "source": [
        "##ADABOOST WITH ESTIMATOR"
      ],
      "metadata": {
        "id": "NiMT9KMtdbEk"
      }
    },
    {
      "cell_type": "code",
      "source": [
        "from sklearn.ensemble import AdaBoostClassifier\n",
        "from sklearn.ensemble import RandomForestClassifier\n",
        "from sklearn import metrics\n",
        "abc =AdaBoostClassifier(n_estimators=20, base_estimator=RandomForestClassifier(random_state=42),learning_rate=0.5)\n",
        "model = abc.fit(X_train, y_train)"
      ],
      "metadata": {
        "id": "GtEWZjPOdX8X"
      },
      "execution_count": null,
      "outputs": []
    },
    {
      "cell_type": "code",
      "source": [
        "y_pred = model.predict(X_test)"
      ],
      "metadata": {
        "id": "H61JaJiwdgxE"
      },
      "execution_count": null,
      "outputs": []
    },
    {
      "cell_type": "code",
      "source": [
        "print(\"Accuracy:\",metrics.accuracy_score(y_test, y_pred))"
      ],
      "metadata": {
        "colab": {
          "base_uri": "https://localhost:8080/"
        },
        "id": "pg2eMf9odhWL",
        "outputId": "655eb4ad-0dda-4fa0-eeec-1805b781da1c"
      },
      "execution_count": null,
      "outputs": [
        {
          "output_type": "stream",
          "name": "stdout",
          "text": [
            "Accuracy: 0.9995347656910845\n"
          ]
        }
      ]
    },
    {
      "cell_type": "markdown",
      "source": [
        "##LOGISTIC REGRESSION"
      ],
      "metadata": {
        "id": "krik6I-pdoHM"
      }
    },
    {
      "cell_type": "code",
      "source": [
        "from sklearn.linear_model import LogisticRegression\n",
        "model = LogisticRegression()\n",
        "model.fit(X_train, y_train)"
      ],
      "metadata": {
        "colab": {
          "base_uri": "https://localhost:8080/"
        },
        "id": "Eg1nEUFLdqbZ",
        "outputId": "455f0c42-14e2-4ddc-b349-1c1cad39bfea"
      },
      "execution_count": null,
      "outputs": [
        {
          "output_type": "stream",
          "name": "stderr",
          "text": [
            "/usr/local/lib/python3.8/dist-packages/sklearn/linear_model/_logistic.py:814: ConvergenceWarning: lbfgs failed to converge (status=1):\n",
            "STOP: TOTAL NO. of ITERATIONS REACHED LIMIT.\n",
            "\n",
            "Increase the number of iterations (max_iter) or scale the data as shown in:\n",
            "    https://scikit-learn.org/stable/modules/preprocessing.html\n",
            "Please also refer to the documentation for alternative solver options:\n",
            "    https://scikit-learn.org/stable/modules/linear_model.html#logistic-regression\n",
            "  n_iter_i = _check_optimize_result(\n"
          ]
        },
        {
          "output_type": "execute_result",
          "data": {
            "text/plain": [
              "LogisticRegression()"
            ]
          },
          "metadata": {},
          "execution_count": 17
        }
      ]
    },
    {
      "cell_type": "code",
      "source": [
        "y_pred=model.predict(X_test) \n",
        "y_pred"
      ],
      "metadata": {
        "colab": {
          "base_uri": "https://localhost:8080/"
        },
        "id": "A5sQlgCZd46l",
        "outputId": "f287e716-c793-497b-f2d3-1297def51f97"
      },
      "execution_count": null,
      "outputs": [
        {
          "output_type": "execute_result",
          "data": {
            "text/plain": [
              "array([0, 0, 0, ..., 0, 0, 0])"
            ]
          },
          "metadata": {},
          "execution_count": 18
        }
      ]
    },
    {
      "cell_type": "code",
      "source": [
        "from sklearn.metrics import accuracy_score,precision_score,recall_score,f1_score\n",
        "print(\"accuracy :\",accuracy_score(y_test,y_pred)*100 ,\"%\") "
      ],
      "metadata": {
        "colab": {
          "base_uri": "https://localhost:8080/"
        },
        "id": "72Rrb-UPd9MQ",
        "outputId": "7306d79e-d909-4db3-d756-1fb1382b580a"
      },
      "execution_count": null,
      "outputs": [
        {
          "output_type": "stream",
          "name": "stdout",
          "text": [
            "accuracy : 99.90554333728078 %\n"
          ]
        }
      ]
    },
    {
      "cell_type": "code",
      "source": [
        "Precision=precision_score(y_test,y_pred,pos_label='positive',average='micro') \n",
        "Precision"
      ],
      "metadata": {
        "colab": {
          "base_uri": "https://localhost:8080/"
        },
        "id": "zmaIbXsgd_EZ",
        "outputId": "1cd250f6-bf01-4a9d-8d8b-07d0baf0537d"
      },
      "execution_count": null,
      "outputs": [
        {
          "output_type": "stream",
          "name": "stderr",
          "text": [
            "/usr/local/lib/python3.8/dist-packages/sklearn/metrics/_classification.py:1370: UserWarning: Note that pos_label (set to 'positive') is ignored when average != 'binary' (got 'micro'). You may use labels=[pos_label] to specify a single positive class.\n",
            "  warnings.warn(\n"
          ]
        },
        {
          "output_type": "execute_result",
          "data": {
            "text/plain": [
              "0.9990554333728078"
            ]
          },
          "metadata": {},
          "execution_count": 20
        }
      ]
    },
    {
      "cell_type": "code",
      "source": [
        "print(\"Recall Score : \",recall_score(y_test, y_pred,pos_label='positive',average='micro'))"
      ],
      "metadata": {
        "colab": {
          "base_uri": "https://localhost:8080/"
        },
        "id": "KasKynTweDKa",
        "outputId": "1b20e04b-4280-44a6-f5e4-bcd67d7be3da"
      },
      "execution_count": null,
      "outputs": [
        {
          "output_type": "stream",
          "name": "stdout",
          "text": [
            "Recall Score :  0.9990554333728078\n"
          ]
        },
        {
          "output_type": "stream",
          "name": "stderr",
          "text": [
            "/usr/local/lib/python3.8/dist-packages/sklearn/metrics/_classification.py:1370: UserWarning: Note that pos_label (set to 'positive') is ignored when average != 'binary' (got 'micro'). You may use labels=[pos_label] to specify a single positive class.\n",
            "  warnings.warn(\n"
          ]
        }
      ]
    },
    {
      "cell_type": "code",
      "source": [
        "print(\"F1 Score : \",f1_score(y_test, y_pred,pos_label='positive',average='micro'))"
      ],
      "metadata": {
        "colab": {
          "base_uri": "https://localhost:8080/"
        },
        "id": "elGui_cceFNP",
        "outputId": "08790b16-926b-4fba-a335-5a3e64f19a25"
      },
      "execution_count": null,
      "outputs": [
        {
          "output_type": "stream",
          "name": "stdout",
          "text": [
            "F1 Score :  0.9990554333728078\n"
          ]
        },
        {
          "output_type": "stream",
          "name": "stderr",
          "text": [
            "/usr/local/lib/python3.8/dist-packages/sklearn/metrics/_classification.py:1370: UserWarning: Note that pos_label (set to 'positive') is ignored when average != 'binary' (got 'micro'). You may use labels=[pos_label] to specify a single positive class.\n",
            "  warnings.warn(\n"
          ]
        }
      ]
    },
    {
      "cell_type": "code",
      "source": [
        "from sklearn.metrics import confusion_matrix\n",
        "confusion_matrix(y_test, y_pred)"
      ],
      "metadata": {
        "colab": {
          "base_uri": "https://localhost:8080/"
        },
        "id": "osOlu7vVeJUb",
        "outputId": "063a527a-b1ce-49b1-90cb-2cb70e39bfc0"
      },
      "execution_count": null,
      "outputs": [
        {
          "output_type": "execute_result",
          "data": {
            "text/plain": [
              "array([[70791,    31],\n",
              "       [   36,    74]])"
            ]
          },
          "metadata": {},
          "execution_count": 23
        }
      ]
    },
    {
      "cell_type": "markdown",
      "source": [
        "##SVM LINEAR KERNEL"
      ],
      "metadata": {
        "id": "TCSU2OaUeMEN"
      }
    },
    {
      "cell_type": "markdown",
      "source": [
        "As the training data is longer SVM takes more time"
      ],
      "metadata": {
        "id": "msrPS-WDn5nP"
      }
    },
    {
      "cell_type": "code",
      "source": [
        "from sklearn.svm import SVC\n",
        "svcclassifier = SVC(kernel = 'linear', random_state = 42)\n",
        "svcclassifier.fit(X_train, y_train)"
      ],
      "metadata": {
        "colab": {
          "base_uri": "https://localhost:8080/"
        },
        "id": "uJ4y4GD9eYxY",
        "outputId": "b5433895-a3b7-4299-e44c-e6b09b5c612c"
      },
      "execution_count": null,
      "outputs": [
        {
          "output_type": "execute_result",
          "data": {
            "text/plain": [
              "SVC(kernel='linear', random_state=42)"
            ]
          },
          "metadata": {},
          "execution_count": 13
        }
      ]
    },
    {
      "cell_type": "code",
      "source": [
        "y_pred = svcclassifier.predict(X_test)\n",
        "print(y_pred)"
      ],
      "metadata": {
        "colab": {
          "base_uri": "https://localhost:8080/"
        },
        "id": "frw5i0BafPAj",
        "outputId": "55d68b93-429d-44a8-cf9e-4c7f1a434671"
      },
      "execution_count": null,
      "outputs": [
        {
          "output_type": "stream",
          "name": "stdout",
          "text": [
            "[0 0 0 ... 0 0 0]\n"
          ]
        }
      ]
    },
    {
      "cell_type": "code",
      "source": [
        "cm = confusion_matrix(y_test, y_pred)\n",
        "cm"
      ],
      "metadata": {
        "colab": {
          "base_uri": "https://localhost:8080/"
        },
        "id": "YnKa6UmvfO8-",
        "outputId": "ff4c87f8-c507-44f5-c13b-63a569145d3a"
      },
      "execution_count": null,
      "outputs": [
        {
          "output_type": "execute_result",
          "data": {
            "text/plain": [
              "array([[70807,    15],\n",
              "       [   81,    29]])"
            ]
          },
          "metadata": {},
          "execution_count": 17
        }
      ]
    },
    {
      "cell_type": "code",
      "source": [
        "print(\"Accuracy:\",metrics.accuracy_score(y_test, y_pred))"
      ],
      "metadata": {
        "colab": {
          "base_uri": "https://localhost:8080/"
        },
        "id": "XnvSBfbqfUFe",
        "outputId": "6490cf8b-c9ca-4542-f67c-b885a626c73b"
      },
      "execution_count": null,
      "outputs": [
        {
          "output_type": "stream",
          "name": "stdout",
          "text": [
            "Accuracy: 0.9986465911013365\n"
          ]
        }
      ]
    },
    {
      "cell_type": "markdown",
      "source": [
        "##RBF KERNEL"
      ],
      "metadata": {
        "id": "0ZaY8MQ3fd5x"
      }
    },
    {
      "cell_type": "code",
      "source": [
        "from sklearn.svm import SVC\n",
        "svcclassifier = SVC(kernel = 'rbf', random_state = 42)\n",
        "svcclassifier.fit(X_train, y_train)\n",
        "y_pred = svcclassifier.predict(X_test)\n",
        "print(y_pred)"
      ],
      "metadata": {
        "colab": {
          "base_uri": "https://localhost:8080/"
        },
        "id": "WkqcBnx6fgBO",
        "outputId": "42b87551-6247-4689-c258-8c1d43f87e69"
      },
      "execution_count": null,
      "outputs": [
        {
          "output_type": "stream",
          "name": "stdout",
          "text": [
            "[0 0 0 ... 0 0 0]\n"
          ]
        }
      ]
    },
    {
      "cell_type": "code",
      "source": [
        "print(\"Accuracy:\",metrics.accuracy_score(y_test, y_pred))"
      ],
      "metadata": {
        "colab": {
          "base_uri": "https://localhost:8080/"
        },
        "id": "sJI5bHxDfkur",
        "outputId": "edd9d126-c7a4-4c5d-f211-1434ec8a884a"
      },
      "execution_count": null,
      "outputs": [
        {
          "output_type": "stream",
          "name": "stdout",
          "text": [
            "Accuracy: 0.9984492189702814\n"
          ]
        }
      ]
    },
    {
      "cell_type": "markdown",
      "source": [
        "##SIGMOID KERNEL"
      ],
      "metadata": {
        "id": "pOp4PuYRfwa3"
      }
    },
    {
      "cell_type": "code",
      "source": [
        "from sklearn.svm import SVC\n",
        "svcclassifier = SVC(kernel = 'sigmoid', random_state = 42)\n",
        "svcclassifier.fit(X_train, y_train)\n",
        "y_pred = svcclassifier.predict(X_test)\n",
        "print(y_pred)"
      ],
      "metadata": {
        "colab": {
          "base_uri": "https://localhost:8080/"
        },
        "id": "oKz-gQryfyJz",
        "outputId": "0232456b-e01c-48fa-c5e4-5200af8f70c4"
      },
      "execution_count": null,
      "outputs": [
        {
          "output_type": "stream",
          "name": "stdout",
          "text": [
            "[0 0 0 ... 0 0 0]\n"
          ]
        }
      ]
    },
    {
      "cell_type": "code",
      "source": [
        "from sklearn.metrics import confusion_matrix\n",
        "cm = confusion_matrix(y_test, y_pred)\n",
        "cm"
      ],
      "metadata": {
        "colab": {
          "base_uri": "https://localhost:8080/"
        },
        "id": "Odz2oe2IfyyU",
        "outputId": "f125806a-4fcb-4ba5-a3d8-4d24774e7108"
      },
      "execution_count": null,
      "outputs": [
        {
          "output_type": "execute_result",
          "data": {
            "text/plain": [
              "array([[70822,     0],\n",
              "       [  110,     0]])"
            ]
          },
          "metadata": {},
          "execution_count": 22
        }
      ]
    },
    {
      "cell_type": "code",
      "source": [
        "print(\"Accuracy:\",metrics.accuracy_score(y_test, y_pred))"
      ],
      "metadata": {
        "colab": {
          "base_uri": "https://localhost:8080/"
        },
        "id": "_TEbYk5jf0ZQ",
        "outputId": "601d1c7a-932a-42d8-9d84-3688216d2722"
      },
      "execution_count": null,
      "outputs": [
        {
          "output_type": "stream",
          "name": "stdout",
          "text": [
            "Accuracy: 0.9984492189702814\n"
          ]
        }
      ]
    },
    {
      "cell_type": "markdown",
      "source": [
        "##RANDOM FOREST"
      ],
      "metadata": {
        "id": "_9gFH-nOg8JU"
      }
    },
    {
      "cell_type": "code",
      "source": [
        "from sklearn.ensemble import RandomForestRegressor"
      ],
      "metadata": {
        "id": "vfXuR4suhtUP"
      },
      "execution_count": null,
      "outputs": []
    },
    {
      "cell_type": "code",
      "source": [
        "reg = RandomForestRegressor(max_depth=4,random_state=6)\n",
        "reg.fit(X_train, y_train)\n",
        "reg.predict(X_test)"
      ],
      "metadata": {
        "colab": {
          "base_uri": "https://localhost:8080/"
        },
        "id": "M4-_aRezhlYn",
        "outputId": "8f7df922-d42e-40d8-e9c9-38ace790122f"
      },
      "execution_count": null,
      "outputs": [
        {
          "output_type": "execute_result",
          "data": {
            "text/plain": [
              "array([0.00024837, 0.00024837, 0.00031418, ..., 0.00024837, 0.00024837,\n",
              "       0.00048237])"
            ]
          },
          "metadata": {},
          "execution_count": 42
        }
      ]
    },
    {
      "cell_type": "code",
      "source": [
        "reg.score(X_test, y_test)"
      ],
      "metadata": {
        "colab": {
          "base_uri": "https://localhost:8080/"
        },
        "id": "nYIX0EDEhw1q",
        "outputId": "962cfdf5-4ec5-4e8f-9e8a-3e3a3ce29953"
      },
      "execution_count": null,
      "outputs": [
        {
          "output_type": "execute_result",
          "data": {
            "text/plain": [
              "0.6582657185571605"
            ]
          },
          "metadata": {},
          "execution_count": 43
        }
      ]
    },
    {
      "cell_type": "code",
      "source": [
        "plt.hist(df['Class'])\n",
        "plt.xlabel('Class')\n",
        "plt.ylabel('Number of Occurrences')\n",
        "plt.title('Class vs Number of occurrences', fontweight = 20, fontsize = 10)\n",
        "plt.show()"
      ],
      "metadata": {
        "colab": {
          "base_uri": "https://localhost:8080/",
          "height": 293
        },
        "id": "9LFoeljDh3lA",
        "outputId": "a942b281-be5b-4677-a3e7-74e4317ae0b9"
      },
      "execution_count": null,
      "outputs": [
        {
          "output_type": "display_data",
          "data": {
            "text/plain": [
              "<Figure size 432x288 with 1 Axes>"
            ],
            "image/png": "[encoded data removed]"
          },
          "metadata": {
            "needs_background": "light"
          }
        }
      ]
    },
    {
      "cell_type": "markdown",
      "source": [
        "##XGBOOST"
      ],
      "metadata": {
        "id": "uPYgOOhrh_5Q"
      }
    },
    {
      "cell_type": "code",
      "source": [
        "from xgboost import XGBClassifier"
      ],
      "metadata": {
        "id": "SQ8ANBbgiHqk"
      },
      "execution_count": null,
      "outputs": []
    },
    {
      "cell_type": "code",
      "source": [
        "xgb = XGBClassifier(max_depth = 4)\n",
        "xgb.fit(X_train, y_train)\n",
        "xgb_yhat = xgb.predict(X_test)"
      ],
      "metadata": {
        "id": "C6kD5UkiiEb-"
      },
      "execution_count": null,
      "outputs": []
    },
    {
      "cell_type": "code",
      "source": [
        "xgb.score(X_test, y_test)"
      ],
      "metadata": {
        "colab": {
          "base_uri": "https://localhost:8080/"
        },
        "id": "BV5pq0hViQr6",
        "outputId": "e07c24a6-9ce7-4dcf-b797-1bb4eb073bf0"
      },
      "execution_count": null,
      "outputs": [
        {
          "output_type": "execute_result",
          "data": {
            "text/plain": [
              "0.9995347656910845"
            ]
          },
          "metadata": {},
          "execution_count": 46
        }
      ]
    }
  ]
}